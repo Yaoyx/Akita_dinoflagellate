{
 "cells": [
  {
   "cell_type": "markdown",
   "metadata": {},
   "source": [
    "Required inputs for Akita are:\n",
    "* binned Hi-C or Micro-C data stored in cooler format (https://github.com/mirnylab/cooler)\n",
    "* Genome FASTA file\n",
    "\n",
    "First, make sure you have a FASTA file available consistent with genome used for the coolers. Either add a symlink for a the data directory or download the machine learning friendly simplified version in the next cell."
   ]
  },
  {
   "cell_type": "code",
   "execution_count": null,
   "metadata": {},
   "outputs": [],
   "source": [
    "import json\n",
    "import os\n",
    "import shutil\n",
    "import subprocess"
   ]
  },
  {
   "cell_type": "markdown",
   "metadata": {},
   "source": [
    "Write out these cooler files and labels to a samples table."
   ]
  },
  {
   "cell_type": "code",
   "execution_count": null,
   "metadata": {},
   "outputs": [],
   "source": [
    "lines = [['index','identifier','file','clip','sum_stat','description']]\n",
    "lines.append(['0', 'Dplus', '/home1/yxiao977/sc1/train_akita/data/5000res_0.5thres_hic_filter_both_bin.mcool::resolutions/5000', '2', 'sum', 'Dplus'])\n",
    "\n",
    "samples_out = open('/home1/yxiao977/sc1/train_akita/data/dinoflagellate_cools.txt', 'w')\n",
    "for line in lines:\n",
    "    print('\\t'.join(line), file=samples_out)\n",
    "samples_out.close()"
   ]
  },
  {
   "cell_type": "markdown",
   "metadata": {},
   "source": [
    "Next, we want to choose genomic sequences to form batches for stochastic gradient descent, divide them into training/validation/test sets, and construct TFRecords to provide to downstream programs.\n",
    "\n",
    "The script [akita_data.py](https://github.com/calico/basenji/blob/master/bin/akita_data.py) implements this procedure.\n",
    "\n",
    "The most relevant options here are:\n",
    "\n",
    "| Option/Argument | Value | Note |\n",
    "|:---|:---|:---|\n",
    "| --sample | 0.1 | Down-sample the genome to 10% to speed things up here. |\n",
    "| -g | data/hg38_gaps_binsize2048_numconseq10.bed | Dodge large-scale unmappable regions determined from filtered cooler bins. |\n",
    "| -l | 1048576 | Sequence length. |\n",
    "| --crop | 65536 | Crop edges of matrix so loss is only computed over the central region. |\n",
    "| --local | True | Run locally, as opposed to on a SLURM scheduler. |\n",
    "| -o | data/1m | Output directory |\n",
    "| -p | 8 | Uses multiple concourrent processes to read/write. |\n",
    "| -t | .1 | Hold out 10% sequences for testing. |\n",
    "| -v | .1 | Hold out 10% sequences for validation. |\n",
    "| -w | 2048 | Pool the nucleotide-resolution values to 2048 bp bins. |\n",
    "| fasta_file| data/hg38.ml.fa | FASTA file to extract sequences from. |\n",
    "| targets_file | data/microc_cools.txt | Target table with cooler paths. |"
   ]
  },
  {
   "cell_type": "markdown",
   "metadata": {},
   "source": [
    "Note: make sure to export BASENJIDIR as outlined in the basenji installation tips \n",
    "(https://github.com/calico/basenji/tree/master/#installation). "
   ]
  },
  {
   "cell_type": "code",
   "execution_count": null,
   "metadata": {},
   "outputs": [],
   "source": [
    "import sys\n",
    "sys.path.insert(0, '/home1/yxiao977/labwork/train_akita/basenji/bin')"
   ]
  },
  {
   "cell_type": "code",
   "execution_count": null,
   "metadata": {},
   "outputs": [],
   "source": [
    "import os\n",
    "import shutil\n",
    "if os.path.isdir('data/2m'):\n",
    "    shutil.rmtree('data/2m')"
   ]
  },
  {
   "cell_type": "code",
   "execution_count": null,
   "metadata": {
    "scrolled": true
   },
   "outputs": [],
   "source": [
    "! ./akita_data.py --sample 1 -l 250000 --local -o ~/sc1/train_akita/data/3m --as_obsexp -p 8 -t .1 -v .1 -w 5000 --snap 5000 --stride_train 250000 --stride_test 50000 ~/sc1/train_akita/data/GSE152150_Smic1.1N.fa ~/sc1/train_akita/data/dinoflagellate_cools.txt"
   ]
  },
  {
   "cell_type": "markdown",
   "metadata": {},
   "source": [
    "The data for training is now saved in data/1m as tfrecords (for training, validation, and testing), where *contigs.bed* contains the original large contiguous regions from which training sequences were taken, and *sequences.bed* contains the train/valid/test sequences."
   ]
  },
  {
   "cell_type": "code",
   "execution_count": null,
   "metadata": {},
   "outputs": [],
   "source": [
    "! cut -f4 /home1/yxiao977/sc1/train_akita/data/3m/sequences.bed | sort | uniq -c"
   ]
  },
  {
   "cell_type": "code",
   "execution_count": null,
   "metadata": {},
   "outputs": [],
   "source": [
    "! head -n3 /home1/yxiao977/sc1/train_akita/data/3m/sequences.bed"
   ]
  },
  {
   "cell_type": "markdown",
   "metadata": {},
   "source": [
    "Now train a model!\n",
    "\n",
    "(Note: for training production-level models, please remove the --sample option when generating tfrecords)"
   ]
  },
  {
   "cell_type": "code",
   "execution_count": null,
   "metadata": {},
   "outputs": [],
   "source": [
    "import json\n",
    "\n",
    "# specify model parameters json to have only two targets\n",
    "params_file   = 'params.json'\n",
    "with open(params_file) as params_file:\n",
    "    params_dinof = json.load(params_file)   \n",
    "params_dinof['model']['head_hic'][-1]['units'] = 1\n",
    "params_dinof['model']['seq_length'] = 250000\n",
    "params_dinof['model']['target_length'] = 50\n",
    "\n",
    "params_dinof['model']['trunk'][0]['pool_size'] = 5\n",
    "\n",
    "params_dinof['model']['trunk'][1]['pool_size'] = 10\n",
    "params_dinof['model']['trunk'][1]['repeat'] = 3\n",
    "\n",
    "\n",
    "\n",
    "with open('./data/1m/params_dinof.json','w') as params_dinof_file:\n",
    "    json.dump(params_dinof, params_dinof_file) \n",
    "    \n",
    "### note that training with default parameters requires GPU with >12Gb RAM ###"
   ]
  },
  {
   "cell_type": "code",
   "execution_count": null,
   "metadata": {},
   "outputs": [],
   "source": [
    "! ./akita_train.py -k -o /home1/yxiao977/sc1/train_akita/data/3m/train_out/ /home1/yxiao977/sc1/train_akita/data/3m/params_dinof.json /home1/yxiao977/sc1/train_akita/data/3m/"
   ]
  },
  {
   "cell_type": "markdown",
   "metadata": {},
   "source": [
    "See explore_model.ipynb for tips on investigating the output of a trained model. "
   ]
  }
 ],
 "metadata": {
  "kernelspec": {
   "display_name": "Python 3 (ipykernel)",
   "language": "python",
   "name": "python3"
  },
  "language_info": {
   "codemirror_mode": {
    "name": "ipython",
    "version": 3
   },
   "file_extension": ".py",
   "mimetype": "text/x-python",
   "name": "python",
   "nbconvert_exporter": "python",
   "pygments_lexer": "ipython3",
   "version": "3.9.15"
  }
 },
 "nbformat": 4,
 "nbformat_minor": 4
}
