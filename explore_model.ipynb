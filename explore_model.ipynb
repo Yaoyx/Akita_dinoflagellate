{
 "cells": [
  {
   "cell_type": "code",
   "execution_count": null,
   "metadata": {},
   "outputs": [],
   "source": [
    "import os\n",
    "import json\n",
    "import subprocess\n",
    "os.environ[\"CUDA_VISIBLE_DEVICES\"] = '-1' ### run on CPU\n",
    "\n",
    "\n",
    "from cooltools.lib.numutils import set_diag\n",
    "import matplotlib.pyplot as plt\n",
    "import numpy as np\n",
    "import pandas as pd\n",
    "import pysam\n",
    "import tensorflow as tf\n",
    "import matplotlib.colors as mcolors\n",
    "\n",
    "\n",
    "from basenji import dataset, dna_io, seqnn"
   ]
  },
  {
   "cell_type": "markdown",
   "metadata": {},
   "source": [
    "## Load trained model"
   ]
  },
  {
   "cell_type": "code",
   "execution_count": null,
   "metadata": {
    "scrolled": true
   },
   "outputs": [],
   "source": [
    "### load params, specify model ###\n",
    "\n",
    "model_dir = '/home1/yxiao977/sc1/train_akita/data/3m/train_out/'\n",
    "params_file = model_dir+'params.json'\n",
    "model_file  = model_dir+'model_check.h5'\n",
    "with open(params_file) as params_open:\n",
    "    params = json.load(params_open)\n",
    "    params_model = params['model']\n",
    "    params_train = params['train']\n",
    "\n",
    "seqnn_model = seqnn.SeqNN(params_model)"
   ]
  },
  {
   "cell_type": "code",
   "execution_count": null,
   "metadata": {},
   "outputs": [],
   "source": [
    "### names of targets ###\n",
    "data_dir =   '/home1/yxiao977/sc1/train_akita/data/3m/'\n",
    "\n",
    "hic_targets = pd.read_csv(data_dir+'/targets.txt',sep='\\t')\n",
    "hic_file_dict_num = dict(zip(hic_targets['index'].values, hic_targets['file'].values) )\n",
    "hic_file_dict     = dict(zip(hic_targets['identifier'].values, hic_targets['file'].values) )\n",
    "hic_num_to_name_dict = dict(zip(hic_targets['index'].values, hic_targets['identifier'].values) )\n",
    "\n",
    "# read data parameters\n",
    "data_stats_file = '%s/statistics.json' % data_dir\n",
    "with open(data_stats_file) as data_stats_open:\n",
    "    data_stats = json.load(data_stats_open)\n",
    "seq_length = data_stats['seq_length']\n",
    "target_length = data_stats['target_length']\n",
    "hic_diags =  data_stats['diagonal_offset']\n",
    "target_crop = data_stats['crop_bp'] // data_stats['pool_width']\n",
    "target_length1 = data_stats['seq_length'] // data_stats['pool_width']"
   ]
  },
  {
   "cell_type": "markdown",
   "metadata": {},
   "source": [
    "## Make predictions for saved tfrecords"
   ]
  },
  {
   "cell_type": "code",
   "execution_count": null,
   "metadata": {},
   "outputs": [],
   "source": [
    "### load data ###\n",
    "\n",
    "sequences = pd.read_csv(data_dir+'sequences.bed', sep='\\t', names=['chr','start','stop','type'])\n",
    "sequences_test = sequences.iloc[sequences['type'].values=='test']\n",
    "sequences_test.reset_index(inplace=True, drop=True)\n",
    "\n",
    "test_data = dataset.SeqDataset(data_dir, 'test', batch_size=8)\n",
    "test_inputs, test_targets = test_data.numpy()"
   ]
  },
  {
   "cell_type": "code",
   "execution_count": null,
   "metadata": {},
   "outputs": [],
   "source": [
    "\n",
    "sequences_train = sequences.iloc[sequences['type'].values=='train']\n",
    "sequences_train.reset_index(inplace=True, drop=True)\n",
    "train_data = dataset.SeqDataset(data_dir, 'train', batch_size=8)\n",
    "train_inputs, train_targets = train_data.numpy()\n"
   ]
  },
  {
   "cell_type": "code",
   "execution_count": null,
   "metadata": {},
   "outputs": [],
   "source": [
    "import sys\n",
    "\n",
    "# These are the usual ipython objects, including this one you are creating\n",
    "ipython_vars = [\"In\", \"Out\", \"exit\", \"quit\", \"get_ipython\", \"ipython_vars\"]\n",
    "\n",
    "# Get a sorted list of the objects and their sizes\n",
    "mem = {\n",
    "    key: value\n",
    "    for key, value in sorted(\n",
    "        [\n",
    "            (x, sys.getsizeof(globals().get(x))/(1024**2)) ## in MegaBytes\n",
    "            for x in dir()\n",
    "            if not x.startswith(\"_\") and x not in sys.modules and x not in ipython_vars\n",
    "        ],\n",
    "        key=lambda x: x[1],\n",
    "        reverse=True,\n",
    "    )\n",
    "}"
   ]
  },
  {
   "cell_type": "code",
   "execution_count": null,
   "metadata": {},
   "outputs": [],
   "source": [
    "### for converting from flattened upper-triangluar vector to symmetric matrix  ###\n",
    "\n",
    "def from_upper_triu(vector_repr, matrix_len, num_diags):\n",
    "    z = np.zeros((matrix_len,matrix_len))\n",
    "    triu_tup = np.triu_indices(matrix_len,num_diags)\n",
    "    z[triu_tup] = vector_repr\n",
    "    for i in range(-num_diags+1,num_diags):\n",
    "        set_diag(z, np.nan, i)\n",
    "    return z + z.T\n",
    "\n",
    "target_length1_cropped = target_length1 - 2*target_crop\n",
    "print('flattened representation length:', target_length) \n",
    "print('symmetrix matrix size:', '('+str(target_length1_cropped)+','+str(target_length1_cropped)+')')"
   ]
  },
  {
   "cell_type": "code",
   "execution_count": null,
   "metadata": {},
   "outputs": [],
   "source": [
    "train_indices = sequences_train[sequences_train['chr'] == 'chr2_pilon'].index\n",
    "\n",
    "\n",
    "fig2_examples = ['chr15_pilon:10640000-10890000']\n",
    "fig2_inds = []\n",
    "\n",
    "\n",
    "for seq in fig2_examples:\n",
    "    print(seq)\n",
    "    chrm,start,stop = seq.split(':')[0], seq.split(':')[1].split('-')[0], seq.split(':')[1].split('-')[1]\n",
    "    test_ind = np.where( (sequences_test['chr'].values== chrm) *\n",
    "                         (sequences_test['start'].values== int(start))*\n",
    "                         (sequences_test['stop'].values==  int(stop ))  )[0][0]\n",
    "    fig2_inds.append(test_ind)\n",
    "fig2_inds"
   ]
  },
  {
   "cell_type": "code",
   "execution_count": null,
   "metadata": {},
   "outputs": [],
   "source": [
    "### make predictions and plot the three examples above ###\n",
    "fig2_inds = [194]\n",
    "\n",
    "target_index = 0 # HFF \n",
    "\n",
    "for test_index in fig2_inds:\n",
    "\n",
    "    chrm, seq_start, seq_end = sequences_test.iloc[test_index][0:3]\n",
    "    myseq_str = chrm+':'+str(seq_start)+'-'+str(seq_end)\n",
    "    print(' ')\n",
    "    print(myseq_str)\n",
    "\n",
    "\n",
    "    test_target = test_targets[test_index:test_index+1,:,:]\n",
    "    seq_length = 250000\n",
    "    test_input = tf.reshape(test_inputs[test_index:test_index+1,:,:], seq_length)\n",
    "    test_input = tf.one_hot(test_input, 1+4, dtype=tf.uint8)\n",
    "    test_input = test_input[tf.newaxis,:,:-1] \n",
    "\n",
    "    test_pred = seqnn_model.model.predict(test_input)\n",
    "\n",
    "\n",
    "    plt.figure(figsize=(8,4))\n",
    "    target_index = 0\n",
    "    vmin=-0.0010712264105677605; vmax=0.0014932174235582352\n",
    "\n",
    "    target_length1_cropped = 50\n",
    "    hic_diag = 2\n",
    "\n",
    "    norm = mcolors.TwoSlopeNorm(vmin=vmin, vmax=vmax, vcenter=0)\n",
    "\n",
    "    # plot pred\n",
    "    plt.subplot(121) \n",
    "    mat = from_upper_triu(test_pred[:,:,target_index], target_length1_cropped, hic_diags)\n",
    "    mat = np.nan_to_num(mat)\n",
    "    im = plt.matshow(mat, fignum=False, cmap= 'RdBu_r', norm=norm)\n",
    "    plt.colorbar(im, fraction=.04, pad = 0.05)\n",
    "    plt.title('pred-'+str(hic_num_to_name_dict[target_index]),y=1.15 )\n",
    "    plt.ylabel(myseq_str)\n",
    "\n",
    "    # plot target \n",
    "    plt.subplot(122) \n",
    "    mat = from_upper_triu(test_target[:,:,target_index], target_length1_cropped, hic_diags)\n",
    "    im = plt.matshow(mat, fignum=False, cmap= 'RdBu_r', norm=norm)\n",
    "    plt.colorbar(im, fraction=.04, pad = 0.05)\n",
    "    plt.title( 'target-'+str(hic_num_to_name_dict[target_index]),y=1.15)\n",
    "\n",
    "    plt.tight_layout()\n",
    "    plt.show()"
   ]
  },
  {
   "cell_type": "code",
   "execution_count": null,
   "metadata": {},
   "outputs": [],
   "source": [
    "# Visualize test slices\n",
    "test_indices = sequences_test[sequences_test['chr'] == 'chr2_pilon'].index\n",
    "\n",
    "target_index = 0 # HFF \n",
    "\n",
    "vmin=-0.0010712264105677605; vmax=0.0014932174235582352\n",
    "norm = mcolors.TwoSlopeNorm(vmin=vmin, vmax=vmax, vcenter=0)\n",
    "\n",
    "for test_index in test_indices[:2]:\n",
    "\n",
    "    chrm, seq_start, seq_end = sequences_test.iloc[test_index][0:3]\n",
    "    myseq_str = chrm+':'+str(seq_start)+'-'+str(seq_end)\n",
    "    print(' ')\n",
    "    print(myseq_str)\n",
    "\n",
    "    test_target = test_targets[test_index:test_index+1,:,:]\n",
    "\n",
    "    target_index = 0\n",
    "    vmin=-0.0010712264105677605; vmax=0.0014932174235582352\n",
    "\n",
    "    target_length1_cropped = 50\n",
    "    hic_diag = 2\n",
    "\n",
    "    norm = mcolors.TwoSlopeNorm(vmin=vmin, vmax=vmax, vcenter=0)\n",
    "\n",
    "    # plot target \n",
    "    mat = from_upper_triu(test_target[:,:,target_index], target_length1_cropped, hic_diags)\n",
    "    im = plt.matshow(mat, fignum=False, cmap= 'RdBu_r', norm=norm)\n",
    "    plt.colorbar(im, fraction=.04, pad = 0.05)\n",
    "    plt.title( 'target-'+str(hic_num_to_name_dict[target_index]),y=1.15)\n",
    "    plt.show()"
   ]
  },
  {
   "cell_type": "code",
   "execution_count": null,
   "metadata": {},
   "outputs": [],
   "source": [
    "# Visualize train slices \n",
    "train_indices = sequences_train[sequences_train['chr'] == 'chr1_pilon'].index\n",
    "\n",
    "target_index = 0 # HFF \n",
    "\n",
    "for train_index in range(10):\n",
    "\n",
    "    chrm, seq_start, seq_end = sequences_train.iloc[train_index][0:3]\n",
    "    myseq_str = chrm+':'+str(seq_start)+'-'+str(seq_end)\n",
    "    print(' ')\n",
    "    print(myseq_str)\n",
    "\n",
    "    train_target = train_targets[train_index:train_index+1,:,:]\n",
    "\n",
    "    target_index = 0\n",
    "    vmin=-0.0010712264105677605; vmax=0.0014932174235582352\n",
    "\n",
    "    target_length1_cropped = 50\n",
    "    hic_diag = 2\n",
    "\n",
    "    norm = mcolors.TwoSlopeNorm(vmin=vmin, vmax=vmax, vcenter=0)\n",
    "\n",
    "    # plot target \n",
    "    mat = from_upper_triu(train_target[:,:,target_index], target_length1_cropped, hic_diags)\n",
    "    im = plt.matshow(mat, fignum=False, cmap= 'RdBu_r', norm=norm)\n",
    "    plt.colorbar(im, fraction=.04, pad = 0.05)\n",
    "    plt.title( 'target-'+str(hic_num_to_name_dict[target_index]),y=1.15)\n",
    "    plt.show()"
   ]
  },
  {
   "cell_type": "markdown",
   "metadata": {},
   "source": [
    "## Make a prediction from sequence"
   ]
  },
  {
   "cell_type": "code",
   "execution_count": null,
   "metadata": {},
   "outputs": [],
   "source": [
    "### make a prediction from sequence ###\n",
    "\n",
    "if not os.path.isfile('./data/hg38.ml.fa'):\n",
    "    print('downloading hg38.ml.fa')\n",
    "    subprocess.call('curl -o ./data/hg38.ml.fa.gz https://storage.googleapis.com/basenji_barnyard2/hg38.ml.fa.gz', shell=True)\n",
    "    subprocess.call('gunzip ./data/hg38.ml.fa.gz', shell=True)\n",
    "\n",
    "fasta_open = pysam.Fastafile('./data/hg38.ml.fa')"
   ]
  },
  {
   "cell_type": "code",
   "execution_count": null,
   "metadata": {},
   "outputs": [],
   "source": [
    "# this example uses the sequence for the test set region\n",
    "# with the corresponding test_index, but\n",
    "# predictions can be made for any DNA sequence of length = seq_length = 2^20\n",
    "\n",
    "chrm, seq_start, seq_end = sequences_test.iloc[test_index][0:3] \n",
    "seq = fasta_open.fetch( chrm, seq_start, seq_end ).upper()\n",
    "if len(seq) != seq_length: raise ValueError('len(seq) != seq_length')\n",
    "\n",
    "# seq_1hot is a np.array with shape [2^20 bp, 4 nucleotides]\n",
    "# representing 1-hot encoded DNA sequence\n",
    "seq_1hot = dna_io.dna_1hot(seq)"
   ]
  },
  {
   "cell_type": "code",
   "execution_count": null,
   "metadata": {},
   "outputs": [],
   "source": [
    "# expand input dimensions, as model accepts arrays of size [#regions,2^20bp, 4]\n",
    "test_pred_from_seq = seqnn_model.model.predict(np.expand_dims(seq_1hot,0))"
   ]
  },
  {
   "cell_type": "code",
   "execution_count": null,
   "metadata": {},
   "outputs": [],
   "source": [
    "# plot pred\n",
    "\n",
    "plt.figure(figsize=(8,4))\n",
    "target_index = 0\n",
    "vmin=-2; vmax=2\n",
    "\n",
    "#transform from flattened representation to symmetric matrix representation\n",
    "mat = from_upper_triu(test_pred_from_seq[:,:,target_index], target_length1_cropped, hic_diags)\n",
    "\n",
    "plt.subplot(121) \n",
    "im = plt.matshow(mat, fignum=False, cmap= 'RdBu_r', vmax=vmax, vmin=vmin)\n",
    "plt.colorbar(im, fraction=.04, pad = 0.05, ticks=[-2,-1, 0, 1,2]);\n",
    "plt.title('pred-'+str(hic_num_to_name_dict[target_index]),y=1.15 )\n",
    "plt.ylabel(myseq_str)\n",
    "\n",
    "# plot target \n",
    "plt.subplot(122) \n",
    "mat = from_upper_triu(test_target[:,:,target_index], target_length1_cropped, hic_diags)\n",
    "im = plt.matshow(mat, fignum=False, cmap= 'RdBu_r', vmax=vmax, vmin=vmin)\n",
    "plt.colorbar(im, fraction=.04, pad = 0.05, ticks=[-2,-1, 0, 1,2]);\n",
    "plt.title( 'target-'+str(hic_num_to_name_dict[target_index]),y=1.15)\n",
    "\n",
    "plt.tight_layout()\n",
    "plt.show()"
   ]
  }
 ],
 "metadata": {
  "kernelspec": {
   "display_name": "Python 3 (ipykernel)",
   "language": "python",
   "name": "python3"
  },
  "language_info": {
   "codemirror_mode": {
    "name": "ipython",
    "version": 3
   },
   "file_extension": ".py",
   "mimetype": "text/x-python",
   "name": "python",
   "nbconvert_exporter": "python",
   "pygments_lexer": "ipython3",
   "version": "3.9.18"
  }
 },
 "nbformat": 4,
 "nbformat_minor": 4
}
