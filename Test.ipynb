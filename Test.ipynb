{
 "cells": [
  {
   "cell_type": "code",
   "execution_count": null,
   "metadata": {},
   "outputs": [],
   "source": [
    "import sys\n",
    "sys.path.append('/home1/yxiao977/labwork')\n",
    "import test_func "
   ]
  },
  {
   "cell_type": "code",
   "execution_count": null,
   "metadata": {},
   "outputs": [],
   "source": [
    "request = {\n",
    "    'hic_path':'/home1/yxiao977/sc1/train_akita/data/5000res_0.5thres_hic_filter_both_bin.cool',\n",
    "    'cis_total_path':'/home1/yxiao977/sc1/train_akita/data/5000res_bins_cistotal_ratio.bed'\n",
    "}\n",
    "\n",
    "test_func.test_cis_total_filter(request)"
   ]
  },
  {
   "cell_type": "code",
   "execution_count": 5,
   "metadata": {},
   "outputs": [],
   "source": [
    "### Test need to delete later\n",
    "import cooler\n",
    "import numpy as np\n",
    "clr = cooler.Cooler('/home1/yxiao977/sc1/test_func/test.cool')\n",
    "# chunks = clr.bins()[:10]\n",
    "# pixels = clr.pixels().fetch('chr1_pilon:0-500000')"
   ]
  },
  {
   "cell_type": "code",
   "execution_count": null,
   "metadata": {},
   "outputs": [],
   "source": [
    "clr.pixels()[:10].loc[0, 'count'] = 0"
   ]
  },
  {
   "cell_type": "code",
   "execution_count": null,
   "metadata": {},
   "outputs": [],
   "source": [
    "clr.pixels()[:10]"
   ]
  },
  {
   "cell_type": "code",
   "execution_count": 4,
   "metadata": {},
   "outputs": [
    {
     "name": "stderr",
     "output_type": "stream",
     "text": [
      "/home1/yxiao977/.conda/envs/akita/lib/python3.9/site-packages/cooltools/lib/numutils.py:652: NumbaDeprecationWarning: The 'nopython' keyword argument was not supplied to the 'numba.jit' decorator. The implicit default value for this argument is currently False, but it will be changed to True in Numba 0.59.0. See https://numba.readthedocs.io/en/stable/reference/deprecation.html#deprecation-of-object-mode-fall-back-behaviour-when-using-jit for details.\n",
      "  def iterative_correction_symmetric(\n",
      "/home1/yxiao977/.conda/envs/akita/lib/python3.9/site-packages/cooltools/lib/numutils.py:727: NumbaDeprecationWarning: The 'nopython' keyword argument was not supplied to the 'numba.jit' decorator. The implicit default value for this argument is currently False, but it will be changed to True in Numba 0.59.0. See https://numba.readthedocs.io/en/stable/reference/deprecation.html#deprecation-of-object-mode-fall-back-behaviour-when-using-jit for details.\n",
      "  def iterative_correction_asymmetric(x, max_iter=1000, tol=1e-5, verbose=False):\n"
     ]
    }
   ],
   "source": [
    "import numpy as np\n",
    "import pandas as pd\n",
    "import cooltools\n",
    "import cooler\n",
    "import logging\n",
    "def _bins_cis_total_ratio_filter(clr, thres):\n",
    "    \"\"\"\n",
    "    Filter out bins with low cis-to-total coverage ratio from a Cooler object.\n",
    "\n",
    "    Parameters\n",
    "    ----------\n",
    "    clr : cooler.Cooler\n",
    "        A Cooler object containing Hi-C contact matrices.\n",
    "    thres : float\n",
    "        The threshold cis-to-total coverage ratio below which bins are considered bad.\n",
    "\n",
    "    Returns\n",
    "    -------\n",
    "    numpy.ndarray\n",
    "        An array of bin indices with low cis-to-total coverage ratio.\n",
    "\n",
    "    Notes\n",
    "    -----\n",
    "    This function uses the `cooltools.coverage` function to compute the cis-to-total\n",
    "    coverage ratio for each bin, and returns an array of bin indices with a ratio\n",
    "    below `thres`. The returned array contains the indices of bins with low cis-to-total\n",
    "    coverage ratio, which can be used to filter out these bins from the input Cooler object.\n",
    "\n",
    "    \"\"\"\n",
    "    coverage = cooltools.coverage(clr)\n",
    "    cis_total_cov = coverage[0] / coverage[1]\n",
    "    bins_mask = cis_total_cov <= thres\n",
    "\n",
    "    return bins_mask"
   ]
  },
  {
   "cell_type": "code",
   "execution_count": null,
   "metadata": {},
   "outputs": [],
   "source": [
    "def _write_filtered_pixels_files(bin_table, chunk_pixels, bin_mask, count_output_path):\n",
    "    \"\"\"\n",
    "    Write the counts of interactions between genomic regions to a text file.\n",
    "\n",
    "    This function takes a cooler object containing the genomic regions, a DataFrame containing the counts of interactions\n",
    "    between genomic regions, and the path to the output text file. It then writes the counts of interactions to the output\n",
    "    text file.\n",
    "\n",
    "    Parameters\n",
    "    ----------\n",
    "    clr : cooler.Cooler\n",
    "        A cooler object containing the genomic regions.\n",
    "    chunk_pixels : pandas.DataFrame\n",
    "        A DataFrame containing the counts of interactions between genomic regions.\n",
    "    count_output_path : str\n",
    "        The path to the output text file.\n",
    "\n",
    "    Returns\n",
    "    -------\n",
    "    None\n",
    "    \n",
    "    \"\"\"\n",
    "    bad_bins_index = np.array(range(bin_table.shape[0]))[bin_mask]\n",
    "    pixels_mask = chunk_pixels['bin1_id'].isin(bad_bins_index)\n",
    "    chunk_pixels.loc[pixels_mask, 'count'] = 0\n",
    "    pixels_mask = chunk_pixels['bin2_id'].isin(bad_bins_index)\n",
    "    chunk_pixels.loc[pixels_mask, 'count'] = 0\n",
    "    # Then write the counts in text file:\n",
    "    with open(count_output_path, 'a+') as count_file:\n",
    "        for i, row in chunk_pixels.iterrows():\n",
    "            bin1_id, bin2_id, count = row\n",
    "            chrom1, start1, end1 = list(bin_table.values[bin1_id])[:3]\n",
    "            chrom2, start2, end2 = list(bin_table.values[bin2_id])[:3]\n",
    "\n",
    "            count_file.write(f\"{chrom1}\\t{start1}\\t{end1}\\t{chrom2}\\t{start2}\\t{end2}\\t{count}\\n\")"
   ]
  },
  {
   "cell_type": "code",
   "execution_count": null,
   "metadata": {},
   "outputs": [],
   "source": [
    "def filter_pixels_by_masked_bin(clr, thres, chromsize_output_path, count_output_path, chunksize=10_000_000):\n",
    "    \"\"\"\n",
    "    Filter the pixels of a cooler object based on a binary mask of masked bins.\n",
    "\n",
    "    Parameters\n",
    "    ----------\n",
    "    clr : cooler.Cooler\n",
    "        The cooler object to filter.\n",
    "    thres : float\n",
    "        The threshold for the cis-total ratio filter.\n",
    "    chromsize_output_path : str\n",
    "        The path to the output file where the chromosome sizes will be written.\n",
    "    count_output_path : str\n",
    "        The path to the output file where the filtered pixels will be written.\n",
    "    chunksize : int, optional\n",
    "        The size of the chunks to process the pixels in, in number of pixels.\n",
    "\n",
    "    Returns\n",
    "    -------\n",
    "    None\n",
    "    \n",
    "    \"\"\"\n",
    "\n",
    "    logger.debug('Start to make bin mask...')\n",
    "    bin_mask = _bins_cis_total_ratio_filter(clr, thres)\n",
    "    tot_pixels = clr.pixels().shape[0]\n",
    "    iter_num = tot_pixels // chunksize\n",
    "\n",
    "    # First write the chromosome sizes:\n",
    "    logger.debug('Start to create chromsize file...')\n",
    "    with open(chromsize_output_path, 'a+') as chromsize_file:\n",
    "        for i, chromsize in enumerate(clr.chromsizes):\n",
    "            chromsize_file.write(f\"{clr.chromnames[i]}\\t{chromsize}\\n\")\n",
    "\n",
    "    logger.debug('Start to create pixels counts file...')\n",
    "    bins_table = clr.bins()[:]\n",
    "    for i in range(iter_num):\n",
    "        logger.debug(f'Start to process pixels chunk {i}...')\n",
    "        chunk_pixels = clr.pixels()[chunksize * i : chunksize * (i + 1)]\n",
    "        \n",
    "        ### Here we might use multiprocessing to boost the speed, but does order matter###\n",
    "        _write_filtered_pixels_files(bins_table, chunk_pixels, bin_mask, count_output_path)\n",
    "    \n",
    "    # remainder \n",
    "    chunk_pixels = clr.pixels()[chunksize * iter_num:]\n",
    "    _write_filtered_pixels_files(bins_table, chunk_pixels, count_output_path)"
   ]
  },
  {
   "cell_type": "code",
   "execution_count": null,
   "metadata": {},
   "outputs": [],
   "source": [
    "import logging\n",
    "logger = logging.getLogger('one')\n",
    "logger.setLevel(logging.DEBUG)\n",
    "\n",
    "ch = logging.StreamHandler()\n",
    "ch.setLevel(logging.DEBUG)\n",
    "formatter = logging.Formatter('%(asctime)s - %(name)s - %(levelname)s : %(message)s')\n",
    "ch.setFormatter(formatter)\n",
    "logger.addHandler(ch)\n"
   ]
  },
  {
   "cell_type": "code",
   "execution_count": 8,
   "metadata": {},
   "outputs": [
    {
     "ename": "NameError",
     "evalue": "name 'filter_pixels_by_masked_bin' is not defined",
     "output_type": "error",
     "traceback": [
      "\u001b[0;31m---------------------------------------------------------------------------\u001b[0m",
      "\u001b[0;31mNameError\u001b[0m                                 Traceback (most recent call last)",
      "\u001b[1;32m/home1/yxiao977/labwork/Akita_dinoflagellate/Test.ipynb Cell 10\u001b[0m line \u001b[0;36m4\n\u001b[1;32m      <a href='vscode-notebook-cell://tunnel%2Byxiao977-usc-hpc/home1/yxiao977/labwork/Akita_dinoflagellate/Test.ipynb#X12sdnNjb2RlLXJlbW90ZQ%3D%3D?line=1'>2</a>\u001b[0m chromsize_output_path \u001b[39m=\u001b[39m \u001b[39m'\u001b[39m\u001b[39m/home1/yxiao977/sc1/test_func/chromsize.txt\u001b[39m\u001b[39m'\u001b[39m \n\u001b[1;32m      <a href='vscode-notebook-cell://tunnel%2Byxiao977-usc-hpc/home1/yxiao977/labwork/Akita_dinoflagellate/Test.ipynb#X12sdnNjb2RlLXJlbW90ZQ%3D%3D?line=2'>3</a>\u001b[0m count_output_path \u001b[39m=\u001b[39m \u001b[39m'\u001b[39m\u001b[39m/home1/yxiao977/sc1/test_func/counts.txt\u001b[39m\u001b[39m'\u001b[39m \n\u001b[0;32m----> <a href='vscode-notebook-cell://tunnel%2Byxiao977-usc-hpc/home1/yxiao977/labwork/Akita_dinoflagellate/Test.ipynb#X12sdnNjb2RlLXJlbW90ZQ%3D%3D?line=3'>4</a>\u001b[0m filter_pixels_by_masked_bin(clr, thres, chromsize_output_path, count_output_path, chunksize\u001b[39m=\u001b[39m\u001b[39m10_000_000\u001b[39m)\n",
      "\u001b[0;31mNameError\u001b[0m: name 'filter_pixels_by_masked_bin' is not defined"
     ]
    }
   ],
   "source": [
    "thres = 0.5\n",
    "chromsize_output_path = '/home1/yxiao977/sc1/test_func/chromsize.txt' \n",
    "count_output_path = '/home1/yxiao977/sc1/test_func/counts.txt' \n",
    "filter_pixels_by_masked_bin(clr, thres, chromsize_output_path, count_output_path, chunksize=10_000_000)"
   ]
  },
  {
   "cell_type": "code",
   "execution_count": null,
   "metadata": {},
   "outputs": [],
   "source": [
    "bin_index = np.array(range(clr.bins().shape[0]))[bin_mask]"
   ]
  },
  {
   "cell_type": "code",
   "execution_count": null,
   "metadata": {},
   "outputs": [],
   "source": [
    "for i, row in chunk_pixels.iterrows():\n",
    "            bin1_id, bin2_id, count = row\n",
    "            print(row)\n",
    "            break"
   ]
  },
  {
   "cell_type": "code",
   "execution_count": 9,
   "metadata": {},
   "outputs": [
    {
     "name": "stderr",
     "output_type": "stream",
     "text": [
      "/tmp/SLURM_16713091/ipykernel_56327/3407875634.py:31: RuntimeWarning: invalid value encountered in true_divide\n",
      "  cis_total_cov = coverage[0] / coverage[1]\n"
     ]
    }
   ],
   "source": [
    "bin_mask = _bins_cis_total_ratio_filter(clr, 0.5)\n",
    "chunk_pixels = clr.pixels()[10_000_000 * 0 : 10_000_000 * 1]\n"
   ]
  },
  {
   "cell_type": "code",
   "execution_count": 15,
   "metadata": {},
   "outputs": [],
   "source": [
    "bad_bins_index = np.array(range(clr.bins().shape[0]))[bin_mask]\n",
    "pixels_mask = chunk_pixels['bin1_id'].isin(bad_bins_index)\n",
    "pixels_mask2 = chunk_pixels['bin2_id'].isin(bad_bins_index)\n"
   ]
  },
  {
   "cell_type": "code",
   "execution_count": 25,
   "metadata": {},
   "outputs": [
    {
     "data": {
      "text/plain": [
       "cooler.core._selectors.RangeSelector1D"
      ]
     },
     "execution_count": 25,
     "metadata": {},
     "output_type": "execute_result"
    }
   ],
   "source": [
    "type(clr.pixels())"
   ]
  },
  {
   "cell_type": "code",
   "execution_count": null,
   "metadata": {},
   "outputs": [],
   "source": [
    "pixels_mask = [bin_mask[i] for i in chunk_pixels['bin1_id'].values]"
   ]
  },
  {
   "cell_type": "code",
   "execution_count": null,
   "metadata": {},
   "outputs": [],
   "source": [
    "bin_table = clr.bins()[:]\n",
    "bad_bins_index = np.array(range(bin_table.shape[0]))[bin_mask]\n",
    "pixels_mask = chunk_pixels['bin1_id'].isin(bad_bins_index)"
   ]
  },
  {
   "cell_type": "code",
   "execution_count": null,
   "metadata": {},
   "outputs": [],
   "source": [
    "pixels_mask[0] = True"
   ]
  },
  {
   "cell_type": "code",
   "execution_count": null,
   "metadata": {},
   "outputs": [],
   "source": [
    "chunk_pixels.values[pixels_mask, 2] = 0"
   ]
  },
  {
   "cell_type": "code",
   "execution_count": 17,
   "metadata": {},
   "outputs": [],
   "source": [
    "import h5py\n",
    "\n",
    "# Open the source and destination HDF5 files\n",
    "source_file = h5py.File(\"/home1/yxiao977/sc1/test_func/test.cool\", \"w\")"
   ]
  },
  {
   "cell_type": "code",
   "execution_count": 18,
   "metadata": {},
   "outputs": [
    {
     "data": {
      "text/plain": [
       "<KeysViewHDF5 []>"
      ]
     },
     "execution_count": 18,
     "metadata": {},
     "output_type": "execute_result"
    }
   ],
   "source": [
    "source_file.keys()"
   ]
  },
  {
   "cell_type": "code",
   "execution_count": null,
   "metadata": {},
   "outputs": [],
   "source": [
    "\n",
    "\n",
    "# Copy the dataset from the source file to the destination file\n",
    "source_file['pixels']['count'][0] = 0\n",
    "\n",
    "source_file.close()\n"
   ]
  },
  {
   "cell_type": "code",
   "execution_count": 3,
   "metadata": {},
   "outputs": [
    {
     "data": {
      "text/plain": [
       "array([ True,  True])"
      ]
     },
     "execution_count": 3,
     "metadata": {},
     "output_type": "execute_result"
    }
   ],
   "source": [
    "import numpy as np\n",
    "np.array([True, False]) + np.array([False, True])"
   ]
  },
  {
   "cell_type": "code",
   "execution_count": 20,
   "metadata": {},
   "outputs": [
    {
     "ename": "KeyError",
     "evalue": "'No cooler found at: /home1/yxiao977/sc1/test_func/test.cool.'",
     "output_type": "error",
     "traceback": [
      "\u001b[0;31m---------------------------------------------------------------------------\u001b[0m",
      "\u001b[0;31mKeyError\u001b[0m                                  Traceback (most recent call last)",
      "\u001b[1;32m/home1/yxiao977/labwork/Akita_dinoflagellate/Test.ipynb Cell 22\u001b[0m line \u001b[0;36m2\n\u001b[1;32m      <a href='vscode-notebook-cell://tunnel%2Byxiao977-usc-hpc/home1/yxiao977/labwork/Akita_dinoflagellate/Test.ipynb#X44sdnNjb2RlLXJlbW90ZQ%3D%3D?line=0'>1</a>\u001b[0m \u001b[39mimport\u001b[39;00m \u001b[39mcooler\u001b[39;00m\n\u001b[0;32m----> <a href='vscode-notebook-cell://tunnel%2Byxiao977-usc-hpc/home1/yxiao977/labwork/Akita_dinoflagellate/Test.ipynb#X44sdnNjb2RlLXJlbW90ZQ%3D%3D?line=1'>2</a>\u001b[0m t \u001b[39m=\u001b[39m cooler\u001b[39m.\u001b[39;49mCooler(\u001b[39m\"\u001b[39;49m\u001b[39m/home1/yxiao977/sc1/test_func/test.cool\u001b[39;49m\u001b[39m\"\u001b[39;49m)\n",
      "File \u001b[0;32m~/.conda/envs/akita/lib/python3.9/site-packages/cooler/api.py:85\u001b[0m, in \u001b[0;36mCooler.__init__\u001b[0;34m(self, store, root, **kwargs)\u001b[0m\n\u001b[1;32m     83\u001b[0m     \u001b[39mself\u001b[39m\u001b[39m.\u001b[39mstore \u001b[39m=\u001b[39m store\u001b[39m.\u001b[39mfile\n\u001b[1;32m     84\u001b[0m     \u001b[39mself\u001b[39m\u001b[39m.\u001b[39mopen_kws \u001b[39m=\u001b[39m {}\n\u001b[0;32m---> 85\u001b[0m \u001b[39mself\u001b[39;49m\u001b[39m.\u001b[39;49m_refresh()\n",
      "File \u001b[0;32m~/.conda/envs/akita/lib/python3.9/site-packages/cooler/api.py:106\u001b[0m, in \u001b[0;36mCooler._refresh\u001b[0;34m(self)\u001b[0m\n\u001b[1;32m    101\u001b[0m \u001b[39mif\u001b[39;00m \u001b[39mlen\u001b[39m(listing):\n\u001b[1;32m    102\u001b[0m     err_msg \u001b[39m+\u001b[39m\u001b[39m=\u001b[39m (\n\u001b[1;32m    103\u001b[0m         \u001b[39mf\u001b[39m\u001b[39m\"\u001b[39m\u001b[39m Coolers found in \u001b[39m\u001b[39m{\u001b[39;00mlisting\u001b[39m}\u001b[39;00m\u001b[39m. \u001b[39m\u001b[39m\"\u001b[39m\n\u001b[1;32m    104\u001b[0m         \u001b[39m+\u001b[39m \u001b[39m\"\u001b[39m\u001b[39mUse \u001b[39m\u001b[39m'\u001b[39m\u001b[39m::\u001b[39m\u001b[39m'\u001b[39m\u001b[39m to specify a group path\u001b[39m\u001b[39m\"\u001b[39m\n\u001b[1;32m    105\u001b[0m     )\n\u001b[0;32m--> 106\u001b[0m \u001b[39mraise\u001b[39;00m \u001b[39mKeyError\u001b[39;00m(err_msg) \u001b[39mfrom\u001b[39;00m \u001b[39mNone\u001b[39;00m\n",
      "\u001b[0;31mKeyError\u001b[0m: 'No cooler found at: /home1/yxiao977/sc1/test_func/test.cool.'"
     ]
    }
   ],
   "source": [
    "import cooler\n",
    "t = cooler.Cooler(\"/home1/yxiao977/sc1/test_func/test.cool\")\n"
   ]
  },
  {
   "cell_type": "code",
   "execution_count": null,
   "metadata": {},
   "outputs": [],
   "source": [
    "len(chunk_pixels['bin1_id'].unique())"
   ]
  },
  {
   "cell_type": "code",
   "execution_count": null,
   "metadata": {},
   "outputs": [],
   "source": [
    "for i in chunk_pixels['bin1_id'].values:\n",
    "    if bin_mask[i] == False:\n",
    "        print(i)\n",
    "        break"
   ]
  },
  {
   "cell_type": "code",
   "execution_count": null,
   "metadata": {},
   "outputs": [],
   "source": [
    "for i, value in enumerate(pixels_mask2):\n",
    "    if value == True:\n",
    "        print(i)\n",
    "        break"
   ]
  },
  {
   "cell_type": "code",
   "execution_count": null,
   "metadata": {},
   "outputs": [],
   "source": [
    "chunk_pixels.iloc[0]"
   ]
  },
  {
   "cell_type": "code",
   "execution_count": null,
   "metadata": {},
   "outputs": [],
   "source": [
    "np.sum(bin_mask)"
   ]
  },
  {
   "cell_type": "code",
   "execution_count": null,
   "metadata": {},
   "outputs": [],
   "source": [
    "pixels_mask2 = chunk_pixels['bin1_id'].isin(bin_mask)"
   ]
  },
  {
   "cell_type": "code",
   "execution_count": null,
   "metadata": {},
   "outputs": [],
   "source": [
    "masked_bin_table = clr.bins()[:]\n"
   ]
  },
  {
   "cell_type": "code",
   "execution_count": null,
   "metadata": {},
   "outputs": [],
   "source": [
    "masked_bin_table.loc[test_arry,'weight'] = 2"
   ]
  },
  {
   "cell_type": "code",
   "execution_count": null,
   "metadata": {},
   "outputs": [],
   "source": [
    "for i in  pixels['bin1_id'].values:\n",
    "    print(i)"
   ]
  },
  {
   "cell_type": "code",
   "execution_count": null,
   "metadata": {},
   "outputs": [],
   "source": [
    "test_arry = np.argwhere((np.array([0, 1, 0, 1]) <= 0.5)).reshape(-1)"
   ]
  },
  {
   "cell_type": "code",
   "execution_count": null,
   "metadata": {},
   "outputs": [],
   "source": [
    "import numpy as np\n",
    "\n",
    "# Sample data\n",
    "data = np.array([1, 2, 3, 4, 5, 6])\n",
    "\n",
    "# Create a mask to select even numbers\n",
    "mask = data % 2 == 0\n",
    "\n",
    "# Use the mask to filter the data\n",
    "filtered_data = data[mask]\n",
    "\n",
    "print(filtered_data)  # Output: [2 4 6]\n"
   ]
  },
  {
   "cell_type": "code",
   "execution_count": null,
   "metadata": {},
   "outputs": [],
   "source": []
  }
 ],
 "metadata": {
  "kernelspec": {
   "display_name": "akita",
   "language": "python",
   "name": "python3"
  },
  "language_info": {
   "codemirror_mode": {
    "name": "ipython",
    "version": 3
   },
   "file_extension": ".py",
   "mimetype": "text/x-python",
   "name": "python",
   "nbconvert_exporter": "python",
   "pygments_lexer": "ipython3",
   "version": "3.9.18"
  },
  "orig_nbformat": 4
 },
 "nbformat": 4,
 "nbformat_minor": 2
}
