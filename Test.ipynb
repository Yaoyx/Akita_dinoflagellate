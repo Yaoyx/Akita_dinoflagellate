{
 "cells": [
  {
   "cell_type": "code",
   "execution_count": null,
   "metadata": {},
   "outputs": [],
   "source": [
    "import os \n",
    "import sys\n",
    "cwd = os.getcwd()\n",
    "sys.path.append(cwd)\n",
    "import test_data_util\n",
    "\n",
    "test_data_util.TestClass.setup_class()\n",
    "threshold = 0.5\n",
    "test = test_data_util.TestClass()\n",
    "test.test_generate_bin_mask()\n",
    "test.test_create_filtered_cooler(threshold)\n",
    "\n",
    "# os.remove(['test_data_util.cool', f'test_data_util_{thres}filtered.cool'])"
   ]
  },
  {
   "cell_type": "code",
   "execution_count": 6,
   "metadata": {},
   "outputs": [
    {
     "name": "stdout",
     "output_type": "stream",
     "text": [
      "231103\n",
      "/home1/yxiao977/sc1/test_func/5000res_Dplus_0.5filtered.mcool::/resolutions/5000\n",
      "num bad bins:  21068 , num Mb 105.140693\n",
      "num gaps:  77 , num Mb 18.146076\n"
     ]
    },
    {
     "name": "stderr",
     "output_type": "stream",
     "text": [
      "/home1/yxiao977/.conda/envs/akita/lib/python3.9/site-packages/bioframe/core/specs.py:150: FutureWarning: is_categorical_dtype is deprecated and will be removed in a future version. Use isinstance(dtype, CategoricalDtype) instead\n",
      "  pd.api.types.is_categorical_dtype(chrom_dtype),\n",
      "/home1/yxiao977/.conda/envs/akita/lib/python3.9/site-packages/bioframe/core/specs.py:150: FutureWarning: is_categorical_dtype is deprecated and will be removed in a future version. Use isinstance(dtype, CategoricalDtype) instead\n",
      "  pd.api.types.is_categorical_dtype(chrom_dtype),\n"
     ]
    }
   ],
   "source": [
    "import bioframe as bf\n",
    "import datetime\n",
    "import numpy as np\n",
    "import pandas as pd\n",
    "import cooler\n",
    "now = datetime.datetime.now()\n",
    "now = str(now)[2:10].replace('-','')\n",
    "print(now)\n",
    "\n",
    "num_bad_conseq = 10\n",
    "badbins_combined = []\n",
    "hic_target_files = ['/home1/yxiao977/sc1/test_func/5000res_Dplus_0.5filtered.mcool::/resolutions/5000']\n",
    "genomeName = 'dinoflagellate'\n",
    "\n",
    "\n",
    "for hic_file in hic_target_files:\n",
    "    print(hic_file)\n",
    "    # open genome Hi-C file\n",
    "    genome_hic_cool = cooler.Cooler(hic_file)    \n",
    "    binSize = genome_hic_cool.info['bin-size']\n",
    "    bad_inds =  pd.isnull( genome_hic_cool.bins()['weight'][:].values )\n",
    "    badbins = bf.merge(\n",
    "        genome_hic_cool.bins()[:].iloc[ bad_inds ][['chrom','start','end']]) \n",
    "    badbins.rename(columns={'chrom':'chr','end':'stop'},inplace=True)\n",
    "    badbin_lens = (badbins['stop'].values-badbins['start'].values)\n",
    "    print('num bad bins: ', np.sum(bad_inds),', num Mb',np.sum(badbin_lens)/1e6)\n",
    "    badbins_combined.append( badbins.iloc[ (badbin_lens > (binSize*num_bad_conseq)) ] )\n",
    "\n",
    "badbins_combined = pd.concat(badbins_combined)\n",
    "badbins_combined.sort_values(['chr','start','stop'],inplace=True) #just in case \n",
    "badbins_combined = bf.merge(badbins_combined, cols=['chr','start','stop'])\n",
    "\n",
    "badbin_lens = (badbins_combined['stop'].values - badbins_combined['start'].values)\n",
    "print('num gaps: ',len(badbins_combined),', num Mb',np.sum(badbin_lens)/1e6)\n",
    "\n",
    "# write to file\n",
    "badbins_combined.to_csv( '/home1/yxiao977/sc1/akita_dinoflagellate/real_data/'+now+'_gaps_'+genomeName+'_binSize'+str(binSize)+\n",
    "                        '_numconseq'+str(num_bad_conseq)+'.bed',   \n",
    "                        sep='\\t', index=False, header=False, columns=['chr','start','stop'])"
   ]
  },
  {
   "cell_type": "code",
   "execution_count": null,
   "metadata": {},
   "outputs": [],
   "source": [
    "! ./akita_data.py -g ~/sc1/test_func/231103_gaps_dinoflagellate_binSize5000_numconseq10.bed --sample 1 -l 250000 --local -o ~/sc1/train_akita/data/4m_unfiltered --as_obsexp -p 8 -t .1 -v .1 -w 5000 --snap 5000 --stride_train 250000 --stride_test 50000 ~/sc1/train_akita/data/GSE152150_Smic1.1N.fa ~/sc1/train_akita/data/unfiltered_cools.txt"
   ]
  },
  {
   "cell_type": "code",
   "execution_count": null,
   "metadata": {},
   "outputs": [],
   "source": [
    "import data_util\n",
    "import cooler\n",
    "\n",
    "output_path = \"/home1/yxiao977/sc1/test_func/test_imap_filtered.cool\"\n",
    "clr = cooler.Cooler(\"/home1/yxiao977/sc1/train_akita/data/5000res_Dplus_hic.cool\")\n",
    "\n",
    "bin_mask = data_util.generate_bin_mask(\n",
    "    clr, [data_util.cis_total_ratio_filter(thres=0.5)]\n",
    ")\n",
    "data_util.create_filtered_cooler(\n",
    "    output_path, clr, bin_mask, chunksize=10_000_000, nproc=16\n",
    ")"
   ]
  }
 ],
 "metadata": {
  "kernelspec": {
   "display_name": "akita",
   "language": "python",
   "name": "python3"
  },
  "language_info": {
   "codemirror_mode": {
    "name": "ipython",
    "version": 3
   },
   "file_extension": ".py",
   "mimetype": "text/x-python",
   "name": "python",
   "nbconvert_exporter": "python",
   "pygments_lexer": "ipython3",
   "version": "3.9.18"
  }
 },
 "nbformat": 4,
 "nbformat_minor": 2
}
