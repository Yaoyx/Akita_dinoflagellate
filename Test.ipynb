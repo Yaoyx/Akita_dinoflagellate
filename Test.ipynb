{
 "cells": [
  {
   "cell_type": "code",
   "execution_count": 1,
   "metadata": {},
   "outputs": [],
   "source": [
    "import sys\n",
    "sys.path.append('/home1/yxiao977/labwork')\n",
    "import test_func "
   ]
  },
  {
   "cell_type": "code",
   "execution_count": 2,
   "metadata": {},
   "outputs": [
    {
     "name": "stderr",
     "output_type": "stream",
     "text": [
      "2023-10-01 13:30:05,743 - one - DEBUG : Start to find bad bins\n",
      "2023-10-01 13:30:05,771 - one - DEBUG : Start to find good bins\n",
      "2023-10-01 13:30:05,827 - one - DEBUG : Start to create pixel dataframe based on binid1\n",
      "2023-10-01 13:35:20,276 - one - DEBUG : Start to create pixel dataframe based on binid2\n",
      "2023-10-01 13:53:01,865 - one - DEBUG : Start to sum up counts\n",
      "2023-10-01 13:53:02,538 - one - INFO : Pass bin1 checkpoint\n",
      "2023-10-01 13:53:16,178 - one - INFO : Pass bin2 checkpoint\n"
     ]
    }
   ],
   "source": [
    "request = {\n",
    "    'hic_path':'/home1/yxiao977/sc1/train_akita/data/5000res_0.5thres_hic_filter_both_bin.cool',\n",
    "    'cis_total_path':'/home1/yxiao977/sc1/train_akita/data/5000res_bins_cistotal_ratio.bed'\n",
    "}\n",
    "\n",
    "test_func.test_cis_total_filter(request)"
   ]
  },
  {
   "cell_type": "code",
   "execution_count": 1,
   "metadata": {},
   "outputs": [],
   "source": [
    "### Test need to delete later\n",
    "import cooler\n",
    "import numpy as np\n",
    "clr = cooler.Cooler('/home1/yxiao977/sc1/train_akita/data/5000res_0.5thres_hic_filter_both_bin.mcool::resolutions/5000')\n",
    "chunks = clr.bins()[:10]\n",
    "pixels = clr.pixels().fetch('chr1_pilon:0-500000')"
   ]
  },
  {
   "cell_type": "code",
   "execution_count": 42,
   "metadata": {},
   "outputs": [
    {
     "name": "stderr",
     "output_type": "stream",
     "text": [
      "/tmp/SLURM_16713091/ipykernel_42742/176519719.py:31: RuntimeWarning: invalid value encountered in true_divide\n",
      "  cis_total_cov = coverage[0] / coverage[1]\n"
     ]
    }
   ],
   "source": [
    "import numpy as np\n",
    "import pandas as pd\n",
    "import cooltools\n",
    "import cooler\n",
    "import logging\n",
    "def _bins_cis_total_ratio_filter(clr, thres):\n",
    "    \"\"\"\n",
    "    Filter out bins with low cis-to-total coverage ratio from a Cooler object.\n",
    "\n",
    "    Parameters\n",
    "    ----------\n",
    "    clr : cooler.Cooler\n",
    "        A Cooler object containing Hi-C contact matrices.\n",
    "    thres : float\n",
    "        The threshold cis-to-total coverage ratio below which bins are considered bad.\n",
    "\n",
    "    Returns\n",
    "    -------\n",
    "    numpy.ndarray\n",
    "        An array of bin indices with low cis-to-total coverage ratio.\n",
    "\n",
    "    Notes\n",
    "    -----\n",
    "    This function uses the `cooltools.coverage` function to compute the cis-to-total\n",
    "    coverage ratio for each bin, and returns an array of bin indices with a ratio\n",
    "    below `thres`. The returned array contains the indices of bins with low cis-to-total\n",
    "    coverage ratio, which can be used to filter out these bins from the input Cooler object.\n",
    "\n",
    "    \"\"\"\n",
    "    coverage = cooltools.coverage(clr)\n",
    "    cis_total_cov = coverage[0] / coverage[1]\n",
    "    bins_mask = np.argwhere((cis_total_cov <= thres)).reshape(-1)\n",
    "\n",
    "    return bins_mask\n",
    "\n",
    "bin_mask = _bins_cis_total_ratio_filter(clr, 0.5)"
   ]
  },
  {
   "cell_type": "code",
   "execution_count": 6,
   "metadata": {},
   "outputs": [],
   "source": [
    "chunk_pixels = clr.pixels()[10_000_000 * 0 : 10_000_000 * 1]\n"
   ]
  },
  {
   "cell_type": "code",
   "execution_count": 61,
   "metadata": {},
   "outputs": [],
   "source": [
    "def _write_filtered_pixels_files(clr, chunk_pixels, bin_mask, count_output_path):\n",
    "    \"\"\"\n",
    "    Write the counts of interactions between genomic regions to a text file.\n",
    "\n",
    "    This function takes a cooler object containing the genomic regions, a DataFrame containing the counts of interactions\n",
    "    between genomic regions, and the path to the output text file. It then writes the counts of interactions to the output\n",
    "    text file.\n",
    "\n",
    "    Parameters\n",
    "    ----------\n",
    "    clr : cooler.Cooler\n",
    "        A cooler object containing the genomic regions.\n",
    "    chunk_pixels : pandas.DataFrame\n",
    "        A DataFrame containing the counts of interactions between genomic regions.\n",
    "    count_output_path : str\n",
    "        The path to the output text file.\n",
    "\n",
    "    Returns\n",
    "    -------\n",
    "    None\n",
    "    \n",
    "    \"\"\"\n",
    "    bad_bins_index = np.array(range(clr.bins().shape[0]))[bin_mask]\n",
    "    pixels_mask = chunk_pixels['bin1_id'].isin(bad_bins_index)\n",
    "    chunk_pixels.loc[pixels_mask, 'count'] = 0\n",
    "    pixels_mask = chunk_pixels['bin2_id'].isin(bad_bins_index)\n",
    "    chunk_pixels.loc[pixels_mask, 'count'] = 0\n",
    "    # Then write the counts in text file:\n",
    "    with open(count_output_path, 'a+') as count_file:\n",
    "        for i, row in chunk_pixels.iterrows():\n",
    "            bin1_id, bin2_id, count = row.value()\n",
    "            chrom1, start1, end1 = list(clr.bins()[bin1_id])[:3]\n",
    "            chrom2, start2, end2 = list(clr.bins()[bin2_id])[:3]\n",
    "\n",
    "            count_file.write(f\"{chrom1}\\t{start1}\\t{end1}\\t{chrom2}\\t{start2}\\t{end2}\\t{count}\\n\")"
   ]
  },
  {
   "cell_type": "code",
   "execution_count": 62,
   "metadata": {},
   "outputs": [],
   "source": [
    "def filter_pixels_by_masked_bin(clr, thres, chromsize_output_path, count_output_path, chunksize=10_000_000):\n",
    "    \"\"\"\n",
    "    Filter the pixels of a cooler object based on a binary mask of masked bins.\n",
    "\n",
    "    Parameters\n",
    "    ----------\n",
    "    clr : cooler.Cooler\n",
    "        The cooler object to filter.\n",
    "    thres : float\n",
    "        The threshold for the cis-total ratio filter.\n",
    "    chromsize_output_path : str\n",
    "        The path to the output file where the chromosome sizes will be written.\n",
    "    count_output_path : str\n",
    "        The path to the output file where the filtered pixels will be written.\n",
    "    chunksize : int, optional\n",
    "        The size of the chunks to process the pixels in, in number of pixels.\n",
    "\n",
    "    Returns\n",
    "    -------\n",
    "    None\n",
    "    \n",
    "    \"\"\"\n",
    "\n",
    "    logger.debug('Start to make bin mask...')\n",
    "    bin_mask = _bins_cis_total_ratio_filter(clr, thres)\n",
    "    tot_pixels = clr.pixels().shape[0]\n",
    "    iter_num = tot_pixels // chunksize\n",
    "\n",
    "    # First write the chromosome sizes:\n",
    "    logger.debug('Start to create chromsize file...')\n",
    "    with open(chromsize_output_path, 'a+') as chromsize_file:\n",
    "        for i, chromsize in enumerate(clr.chromsizes):\n",
    "            chromsize_file.write(f\"{clr.chromnames[i]}\\t{chromsize}\\n\")\n",
    "\n",
    "    logger.debug('Start to create pixels counts file...')\n",
    "    for i in range(iter_num):\n",
    "        chunk_pixels = clr.pixels()[chunksize * i : chunksize * (i + 1)]\n",
    "        \n",
    "        ### Here we might use multiprocessing to boost the speed, but does order matter###\n",
    "        _write_filtered_pixels_files(clr, chunk_pixels, bin_mask, count_output_path)\n",
    "    \n",
    "    # remainder \n",
    "    chunk_pixels = clr.pixels()[chunksize * iter_num:]\n",
    "    _write_filtered_pixels_files(clr, chunk_pixels, count_output_path)"
   ]
  },
  {
   "cell_type": "code",
   "execution_count": 65,
   "metadata": {},
   "outputs": [
    {
     "name": "stderr",
     "output_type": "stream",
     "text": [
      "2023-10-03 15:08:34,286 - one - DEBUG : Start to make bin mask...\n",
      "2023-10-03 15:08:34,286 - one - DEBUG : Start to make bin mask...\n",
      "DEBUG:one:Start to make bin mask...\n",
      "/tmp/SLURM_16713091/ipykernel_42742/176519719.py:31: RuntimeWarning: invalid value encountered in true_divide\n",
      "  cis_total_cov = coverage[0] / coverage[1]\n",
      "2023-10-03 15:09:20,050 - one - DEBUG : Start to create chromsize file...\n",
      "2023-10-03 15:09:20,050 - one - DEBUG : Start to create chromsize file...\n",
      "DEBUG:one:Start to create chromsize file...\n",
      "2023-10-03 15:09:20,213 - one - DEBUG : Start to create pixels counts file...\n",
      "2023-10-03 15:09:20,213 - one - DEBUG : Start to create pixels counts file...\n",
      "DEBUG:one:Start to create pixels counts file...\n"
     ]
    },
    {
     "ename": "AttributeError",
     "evalue": "'Series' object has no attribute 'value'",
     "output_type": "error",
     "traceback": [
      "\u001b[0;31m---------------------------------------------------------------------------\u001b[0m",
      "\u001b[0;31mAttributeError\u001b[0m                            Traceback (most recent call last)",
      "\u001b[0;32m/tmp/SLURM_16713091/ipykernel_42742/1131879854.py\u001b[0m in \u001b[0;36m?\u001b[0;34m()\u001b[0m\n\u001b[0;32m---> 14\u001b[0;31m \u001b[0;32mimport\u001b[0m \u001b[0mlogging\u001b[0m\u001b[0;34m\u001b[0m\u001b[0;34m\u001b[0m\u001b[0m\n\u001b[0m\u001b[1;32m     15\u001b[0m \u001b[0mlogger\u001b[0m \u001b[0;34m=\u001b[0m \u001b[0mlogging\u001b[0m\u001b[0;34m.\u001b[0m\u001b[0mgetLogger\u001b[0m\u001b[0;34m(\u001b[0m\u001b[0;34m'one'\u001b[0m\u001b[0;34m)\u001b[0m\u001b[0;34m\u001b[0m\u001b[0;34m\u001b[0m\u001b[0m\n\u001b[1;32m     16\u001b[0m \u001b[0mlogger\u001b[0m\u001b[0;34m.\u001b[0m\u001b[0msetLevel\u001b[0m\u001b[0;34m(\u001b[0m\u001b[0mlogging\u001b[0m\u001b[0;34m.\u001b[0m\u001b[0mDEBUG\u001b[0m\u001b[0;34m)\u001b[0m\u001b[0;34m\u001b[0m\u001b[0;34m\u001b[0m\u001b[0m\n\u001b[1;32m     17\u001b[0m \u001b[0;34m\u001b[0m\u001b[0m\n",
      "\u001b[0;32m/tmp/SLURM_16713091/ipykernel_42742/3633564512.py\u001b[0m in \u001b[0;36m?\u001b[0;34m(clr, thres, chromsize_output_path, count_output_path, chunksize)\u001b[0m\n\u001b[1;32m     36\u001b[0m     \u001b[0;32mfor\u001b[0m \u001b[0mi\u001b[0m \u001b[0;32min\u001b[0m \u001b[0mrange\u001b[0m\u001b[0;34m(\u001b[0m\u001b[0miter_num\u001b[0m\u001b[0;34m)\u001b[0m\u001b[0;34m:\u001b[0m\u001b[0;34m\u001b[0m\u001b[0;34m\u001b[0m\u001b[0m\n\u001b[1;32m     37\u001b[0m         \u001b[0mchunk_pixels\u001b[0m \u001b[0;34m=\u001b[0m \u001b[0mclr\u001b[0m\u001b[0;34m.\u001b[0m\u001b[0mpixels\u001b[0m\u001b[0;34m(\u001b[0m\u001b[0;34m)\u001b[0m\u001b[0;34m[\u001b[0m\u001b[0mchunksize\u001b[0m \u001b[0;34m*\u001b[0m \u001b[0mi\u001b[0m \u001b[0;34m:\u001b[0m \u001b[0mchunksize\u001b[0m \u001b[0;34m*\u001b[0m \u001b[0;34m(\u001b[0m\u001b[0mi\u001b[0m \u001b[0;34m+\u001b[0m \u001b[0;36m1\u001b[0m\u001b[0;34m)\u001b[0m\u001b[0;34m]\u001b[0m\u001b[0;34m\u001b[0m\u001b[0;34m\u001b[0m\u001b[0m\n\u001b[1;32m     38\u001b[0m \u001b[0;34m\u001b[0m\u001b[0m\n\u001b[1;32m     39\u001b[0m         \u001b[0;31m### Here we might use multiprocessing to boost the speed, but does order matter###\u001b[0m\u001b[0;34m\u001b[0m\u001b[0;34m\u001b[0m\u001b[0m\n\u001b[0;32m---> 40\u001b[0;31m         \u001b[0m_write_filtered_pixels_files\u001b[0m\u001b[0;34m(\u001b[0m\u001b[0mclr\u001b[0m\u001b[0;34m,\u001b[0m \u001b[0mchunk_pixels\u001b[0m\u001b[0;34m,\u001b[0m \u001b[0mbin_mask\u001b[0m\u001b[0;34m,\u001b[0m \u001b[0mcount_output_path\u001b[0m\u001b[0;34m)\u001b[0m\u001b[0;34m\u001b[0m\u001b[0;34m\u001b[0m\u001b[0m\n\u001b[0m\u001b[1;32m     41\u001b[0m \u001b[0;34m\u001b[0m\u001b[0m\n\u001b[1;32m     42\u001b[0m     \u001b[0;31m# remainder\u001b[0m\u001b[0;34m\u001b[0m\u001b[0;34m\u001b[0m\u001b[0m\n\u001b[1;32m     43\u001b[0m     \u001b[0mchunk_pixels\u001b[0m \u001b[0;34m=\u001b[0m \u001b[0mclr\u001b[0m\u001b[0;34m.\u001b[0m\u001b[0mpixels\u001b[0m\u001b[0;34m(\u001b[0m\u001b[0;34m)\u001b[0m\u001b[0;34m[\u001b[0m\u001b[0mchunksize\u001b[0m \u001b[0;34m*\u001b[0m \u001b[0miter_num\u001b[0m\u001b[0;34m:\u001b[0m\u001b[0;34m]\u001b[0m\u001b[0;34m\u001b[0m\u001b[0;34m\u001b[0m\u001b[0m\n",
      "\u001b[0;32m/tmp/SLURM_16713091/ipykernel_42742/1394178722.py\u001b[0m in \u001b[0;36m?\u001b[0;34m(clr, chunk_pixels, bin_mask, count_output_path)\u001b[0m\n\u001b[1;32m     31\u001b[0m             \u001b[0mbin1_id\u001b[0m\u001b[0;34m,\u001b[0m \u001b[0mbin2_id\u001b[0m\u001b[0;34m,\u001b[0m \u001b[0mcount\u001b[0m \u001b[0;34m=\u001b[0m \u001b[0mrow\u001b[0m\u001b[0;34m.\u001b[0m\u001b[0mvalue\u001b[0m\u001b[0;34m(\u001b[0m\u001b[0;34m)\u001b[0m\u001b[0;34m\u001b[0m\u001b[0;34m\u001b[0m\u001b[0m\n\u001b[1;32m     32\u001b[0m             \u001b[0mchrom1\u001b[0m\u001b[0;34m,\u001b[0m \u001b[0mstart1\u001b[0m\u001b[0;34m,\u001b[0m \u001b[0mend1\u001b[0m \u001b[0;34m=\u001b[0m \u001b[0mlist\u001b[0m\u001b[0;34m(\u001b[0m\u001b[0mclr\u001b[0m\u001b[0;34m.\u001b[0m\u001b[0mbins\u001b[0m\u001b[0;34m(\u001b[0m\u001b[0;34m)\u001b[0m\u001b[0;34m[\u001b[0m\u001b[0mbin1_id\u001b[0m\u001b[0;34m]\u001b[0m\u001b[0;34m)\u001b[0m\u001b[0;34m[\u001b[0m\u001b[0;34m:\u001b[0m\u001b[0;36m3\u001b[0m\u001b[0;34m]\u001b[0m\u001b[0;34m\u001b[0m\u001b[0;34m\u001b[0m\u001b[0m\n\u001b[1;32m     33\u001b[0m             \u001b[0mchrom2\u001b[0m\u001b[0;34m,\u001b[0m \u001b[0mstart2\u001b[0m\u001b[0;34m,\u001b[0m \u001b[0mend2\u001b[0m \u001b[0;34m=\u001b[0m \u001b[0mlist\u001b[0m\u001b[0;34m(\u001b[0m\u001b[0mclr\u001b[0m\u001b[0;34m.\u001b[0m\u001b[0mbins\u001b[0m\u001b[0;34m(\u001b[0m\u001b[0;34m)\u001b[0m\u001b[0;34m[\u001b[0m\u001b[0mbin2_id\u001b[0m\u001b[0;34m]\u001b[0m\u001b[0;34m)\u001b[0m\u001b[0;34m[\u001b[0m\u001b[0;34m:\u001b[0m\u001b[0;36m3\u001b[0m\u001b[0;34m]\u001b[0m\u001b[0;34m\u001b[0m\u001b[0;34m\u001b[0m\u001b[0m\n\u001b[1;32m     34\u001b[0m \u001b[0;34m\u001b[0m\u001b[0m\n\u001b[0;32m---> 35\u001b[0;31m             \u001b[0mcount_file\u001b[0m\u001b[0;34m.\u001b[0m\u001b[0mwrite\u001b[0m\u001b[0;34m(\u001b[0m\u001b[0;34mf\"{chrom1}\\t{start1}\\t{end1}\\t{chrom2}\\t{start2}\\t{end2}\\t{count}\\n\"\u001b[0m\u001b[0;34m)\u001b[0m\u001b[0;34m\u001b[0m\u001b[0;34m\u001b[0m\u001b[0m\n\u001b[0m",
      "\u001b[0;32m~/.conda/envs/akita/lib/python3.9/site-packages/pandas/core/generic.py\u001b[0m in \u001b[0;36m?\u001b[0;34m(self, name)\u001b[0m\n\u001b[1;32m   6198\u001b[0m             \u001b[0;32mand\u001b[0m \u001b[0mname\u001b[0m \u001b[0;32mnot\u001b[0m \u001b[0;32min\u001b[0m \u001b[0mself\u001b[0m\u001b[0;34m.\u001b[0m\u001b[0m_accessors\u001b[0m\u001b[0;34m\u001b[0m\u001b[0;34m\u001b[0m\u001b[0m\n\u001b[1;32m   6199\u001b[0m             \u001b[0;32mand\u001b[0m \u001b[0mself\u001b[0m\u001b[0;34m.\u001b[0m\u001b[0m_info_axis\u001b[0m\u001b[0;34m.\u001b[0m\u001b[0m_can_hold_identifiers_and_holds_name\u001b[0m\u001b[0;34m(\u001b[0m\u001b[0mname\u001b[0m\u001b[0;34m)\u001b[0m\u001b[0;34m\u001b[0m\u001b[0;34m\u001b[0m\u001b[0m\n\u001b[1;32m   6200\u001b[0m         ):\n\u001b[1;32m   6201\u001b[0m             \u001b[0;32mreturn\u001b[0m \u001b[0mself\u001b[0m\u001b[0;34m[\u001b[0m\u001b[0mname\u001b[0m\u001b[0;34m]\u001b[0m\u001b[0;34m\u001b[0m\u001b[0;34m\u001b[0m\u001b[0m\n\u001b[0;32m-> 6202\u001b[0;31m         \u001b[0;32mreturn\u001b[0m \u001b[0mobject\u001b[0m\u001b[0;34m.\u001b[0m\u001b[0m__getattribute__\u001b[0m\u001b[0;34m(\u001b[0m\u001b[0mself\u001b[0m\u001b[0;34m,\u001b[0m \u001b[0mname\u001b[0m\u001b[0;34m)\u001b[0m\u001b[0;34m\u001b[0m\u001b[0;34m\u001b[0m\u001b[0m\n\u001b[0m",
      "\u001b[0;31mAttributeError\u001b[0m: 'Series' object has no attribute 'value'"
     ]
    }
   ],
   "source": [
    "import logging\n",
    "logger = logging.getLogger('one')\n",
    "logger.setLevel(logging.DEBUG)\n",
    "\n",
    "ch = logging.StreamHandler()\n",
    "ch.setLevel(logging.DEBUG)\n",
    "formatter = logging.Formatter('%(asctime)s - %(name)s - %(levelname)s : %(message)s')\n",
    "ch.setFormatter(formatter)\n",
    "logger.addHandler(ch)\n",
    "\n",
    "thres = 0.5\n",
    "chromsize_output_path = '/home1/yxiao977/sc1/test_func/chromsize.txt' \n",
    "count_output_path = '/home1/yxiao977/sc1/test_func/counts.txt' \n",
    "filter_pixels_by_masked_bin(clr, thres, chromsize_output_path, count_output_path, chunksize=10_000_000)"
   ]
  },
  {
   "cell_type": "code",
   "execution_count": 50,
   "metadata": {},
   "outputs": [],
   "source": [
    "bin_index = np.array(range(clr.bins().shape[0]))[bin_mask]"
   ]
  },
  {
   "cell_type": "code",
   "execution_count": 68,
   "metadata": {},
   "outputs": [
    {
     "name": "stdout",
     "output_type": "stream",
     "text": [
      "bin1_id    0\n",
      "bin2_id    0\n",
      "count      0\n",
      "Name: 0, dtype: int64\n"
     ]
    }
   ],
   "source": [
    "for i, row in chunk_pixels.iterrows():\n",
    "            bin1_id, bin2_id, count = row\n",
    "            print(row)\n",
    "            break"
   ]
  },
  {
   "cell_type": "code",
   "execution_count": 16,
   "metadata": {},
   "outputs": [],
   "source": [
    "pixels_mask = [bin_mask[i] for i in chunk_pixels['bin1_id'].values]"
   ]
  },
  {
   "cell_type": "code",
   "execution_count": 43,
   "metadata": {},
   "outputs": [],
   "source": [
    "pixels_mask2 = chunk_pixels['bin1_id'].isin(bin_mask)"
   ]
  },
  {
   "cell_type": "code",
   "execution_count": 53,
   "metadata": {},
   "outputs": [],
   "source": [
    "pixels_mask[0] = True"
   ]
  },
  {
   "cell_type": "code",
   "execution_count": 56,
   "metadata": {},
   "outputs": [
    {
     "data": {
      "text/plain": [
       "0    0\n",
       "Name: count, dtype: int32"
      ]
     },
     "execution_count": 56,
     "metadata": {},
     "output_type": "execute_result"
    }
   ],
   "source": [
    "chunk_pixels.loc[pixels_mask, 'count']"
   ]
  },
  {
   "cell_type": "code",
   "execution_count": 39,
   "metadata": {},
   "outputs": [
    {
     "data": {
      "text/plain": [
       "10116"
      ]
     },
     "execution_count": 39,
     "metadata": {},
     "output_type": "execute_result"
    }
   ],
   "source": [
    "np.sum(pixels_mask2)"
   ]
  },
  {
   "cell_type": "code",
   "execution_count": 41,
   "metadata": {},
   "outputs": [
    {
     "data": {
      "text/plain": [
       "1513"
      ]
     },
     "execution_count": 41,
     "metadata": {},
     "output_type": "execute_result"
    }
   ],
   "source": [
    "len(chunk_pixels['bin1_id'].unique())"
   ]
  },
  {
   "cell_type": "code",
   "execution_count": 27,
   "metadata": {},
   "outputs": [
    {
     "name": "stdout",
     "output_type": "stream",
     "text": [
      "0\n"
     ]
    }
   ],
   "source": [
    "for i in chunk_pixels['bin1_id'].values:\n",
    "    if bin_mask[i] == False:\n",
    "        print(i)\n",
    "        break"
   ]
  },
  {
   "cell_type": "code",
   "execution_count": 31,
   "metadata": {},
   "outputs": [
    {
     "name": "stdout",
     "output_type": "stream",
     "text": [
      "0\n"
     ]
    }
   ],
   "source": [
    "for i, value in enumerate(pixels_mask2):\n",
    "    if value == True:\n",
    "        print(i)\n",
    "        break"
   ]
  },
  {
   "cell_type": "code",
   "execution_count": 34,
   "metadata": {},
   "outputs": [
    {
     "data": {
      "text/plain": [
       "bin1_id       0\n",
       "bin2_id       0\n",
       "count      3388\n",
       "Name: 0, dtype: int64"
      ]
     },
     "execution_count": 34,
     "metadata": {},
     "output_type": "execute_result"
    }
   ],
   "source": [
    "chunk_pixels.iloc[0]"
   ]
  },
  {
   "cell_type": "code",
   "execution_count": 36,
   "metadata": {},
   "outputs": [
    {
     "data": {
      "text/plain": [
       "142"
      ]
     },
     "execution_count": 36,
     "metadata": {},
     "output_type": "execute_result"
    }
   ],
   "source": [
    "np.sum(bin_mask)"
   ]
  },
  {
   "cell_type": "code",
   "execution_count": 28,
   "metadata": {},
   "outputs": [],
   "source": [
    "pixels_mask2 = chunk_pixels['bin1_id'].isin(bin_mask)"
   ]
  },
  {
   "cell_type": "code",
   "execution_count": 6,
   "metadata": {},
   "outputs": [],
   "source": [
    "masked_bin_table = clr.bins()[:]\n"
   ]
  },
  {
   "cell_type": "code",
   "execution_count": 53,
   "metadata": {},
   "outputs": [],
   "source": [
    "masked_bin_table.loc[test_arry,'weight'] = 2"
   ]
  },
  {
   "cell_type": "code",
   "execution_count": null,
   "metadata": {},
   "outputs": [],
   "source": [
    "for i in  pixels['bin1_id'].values:\n",
    "    print(i)"
   ]
  },
  {
   "cell_type": "code",
   "execution_count": 50,
   "metadata": {},
   "outputs": [],
   "source": [
    "test_arry = np.argwhere((np.array([0, 1, 0, 1]) <= 0.5)).reshape(-1)"
   ]
  },
  {
   "cell_type": "code",
   "execution_count": 55,
   "metadata": {},
   "outputs": [
    {
     "name": "stdout",
     "output_type": "stream",
     "text": [
      "[2 4 6]\n"
     ]
    }
   ],
   "source": [
    "import numpy as np\n",
    "\n",
    "# Sample data\n",
    "data = np.array([1, 2, 3, 4, 5, 6])\n",
    "\n",
    "# Create a mask to select even numbers\n",
    "mask = data % 2 == 0\n",
    "\n",
    "# Use the mask to filter the data\n",
    "filtered_data = data[mask]\n",
    "\n",
    "print(filtered_data)  # Output: [2 4 6]\n"
   ]
  },
  {
   "cell_type": "code",
   "execution_count": null,
   "metadata": {},
   "outputs": [],
   "source": []
  }
 ],
 "metadata": {
  "kernelspec": {
   "display_name": "akita",
   "language": "python",
   "name": "python3"
  },
  "language_info": {
   "codemirror_mode": {
    "name": "ipython",
    "version": 3
   },
   "file_extension": ".py",
   "mimetype": "text/x-python",
   "name": "python",
   "nbconvert_exporter": "python",
   "pygments_lexer": "ipython3",
   "version": "3.9.18"
  },
  "orig_nbformat": 4
 },
 "nbformat": 4,
 "nbformat_minor": 2
}
