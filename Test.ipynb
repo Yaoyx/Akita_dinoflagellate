{
 "cells": [
  {
   "cell_type": "code",
   "execution_count": 1,
   "metadata": {},
   "outputs": [
    {
     "name": "stderr",
     "output_type": "stream",
     "text": [
      "/home1/yxiao977/.conda/envs/akita/lib/python3.9/site-packages/cooltools/lib/numutils.py:652: NumbaDeprecationWarning: The 'nopython' keyword argument was not supplied to the 'numba.jit' decorator. The implicit default value for this argument is currently False, but it will be changed to True in Numba 0.59.0. See https://numba.readthedocs.io/en/stable/reference/deprecation.html#deprecation-of-object-mode-fall-back-behaviour-when-using-jit for details.\n",
      "  def iterative_correction_symmetric(\n",
      "/home1/yxiao977/.conda/envs/akita/lib/python3.9/site-packages/cooltools/lib/numutils.py:727: NumbaDeprecationWarning: The 'nopython' keyword argument was not supplied to the 'numba.jit' decorator. The implicit default value for this argument is currently False, but it will be changed to True in Numba 0.59.0. See https://numba.readthedocs.io/en/stable/reference/deprecation.html#deprecation-of-object-mode-fall-back-behaviour-when-using-jit for details.\n",
      "  def iterative_correction_asymmetric(x, max_iter=1000, tol=1e-5, verbose=False):\n",
      "/home1/yxiao977/.conda/envs/akita/lib/python3.9/site-packages/cooler/balance.py:112: RuntimeWarning: Mean of empty slice.\n",
      "  scale = nzmarg.mean()\n",
      "/home1/yxiao977/.conda/envs/akita/lib/python3.9/site-packages/numpy/core/_methods.py:189: RuntimeWarning: invalid value encountered in double_scalars\n",
      "  ret = ret.dtype.type(ret / rcount)\n",
      "2023-10-17 22:24:32,577 - test_data_util - INFO : \n",
      "\n",
      "######### generate_bin_mask Pass the test #########\n",
      "/home1/yxiao977/.conda/envs/akita/lib/python3.9/site-packages/cooler/core/_tableops.py:120: FutureWarning: is_categorical_dtype is deprecated and will be removed in a future version. Use isinstance(dtype, CategoricalDtype) instead\n",
      "  elif is_categorical_dtype(data):\n",
      "/home1/yxiao977/labwork/Akita_dinoflagellate/test_data_util.py:85: RuntimeWarning: invalid value encountered in true_divide\n",
      "  cis_total_cov_filtered = coverage_filtered[0] / coverage_filtered[1]\n",
      "2023-10-17 22:24:32,678 - test_data_util - INFO : \n",
      "\n",
      "######### create_filtered_cooler Pass the test #########\n"
     ]
    }
   ],
   "source": [
    "import os \n",
    "import sys\n",
    "cwd = os.getcwd()\n",
    "sys.path.append(cwd)\n",
    "import test_data_util\n",
    "\n",
    "test_data_util.TestClass.setup_class()\n",
    "threshold = 0.5\n",
    "test = test_data_util.TestClass()\n",
    "test.test_generate_bin_mask()\n",
    "test.test_create_filtered_cooler(threshold)\n",
    "\n",
    "# os.remove(['test_data_util.cool', f'test_data_util_{thres}filtered.cool'])"
   ]
  },
  {
   "cell_type": "code",
   "execution_count": 7,
   "metadata": {},
   "outputs": [
    {
     "name": "stdout",
     "output_type": "stream",
     "text": [
      "231015\n",
      "/home1/yxiao977/sc1/test_func/test_create.cool\n",
      "num bad bins:  21068 , num Mb 105.140693\n",
      "num gaps:  77 , num Mb 18.146076\n"
     ]
    },
    {
     "name": "stderr",
     "output_type": "stream",
     "text": [
      "/home1/yxiao977/.conda/envs/akita/lib/python3.9/site-packages/bioframe/core/specs.py:150: FutureWarning: is_categorical_dtype is deprecated and will be removed in a future version. Use isinstance(dtype, CategoricalDtype) instead\n",
      "  pd.api.types.is_categorical_dtype(chrom_dtype),\n",
      "/home1/yxiao977/.conda/envs/akita/lib/python3.9/site-packages/bioframe/core/specs.py:150: FutureWarning: is_categorical_dtype is deprecated and will be removed in a future version. Use isinstance(dtype, CategoricalDtype) instead\n",
      "  pd.api.types.is_categorical_dtype(chrom_dtype),\n"
     ]
    }
   ],
   "source": [
    "import bioframe as bf\n",
    "import datetime\n",
    "import numpy as np\n",
    "import pandas as pd\n",
    "now = datetime.datetime.now()\n",
    "now = str(now)[2:10].replace('-','')\n",
    "print(now)\n",
    "\n",
    "num_bad_conseq = 10\n",
    "badbins_combined = []\n",
    "hic_target_files = ['/home1/yxiao977/sc1/test_func/test_create.cool']\n",
    "genomeName = 'dinoflagellate'\n",
    "\n",
    "\n",
    "for hic_file in hic_target_files:\n",
    "    print(hic_file)\n",
    "    # open genome Hi-C file\n",
    "    genome_hic_cool = cooler.Cooler(hic_file)    \n",
    "    binSize = genome_hic_cool.info['bin-size']\n",
    "    bad_inds =  pd.isnull( genome_hic_cool.bins()['weight'][:].values )\n",
    "    badbins = bf.merge(\n",
    "        genome_hic_cool.bins()[:].iloc[ bad_inds ][['chrom','start','end']]) \n",
    "    badbins.rename(columns={'chrom':'chr','end':'stop'},inplace=True)\n",
    "    badbin_lens = (badbins['stop'].values-badbins['start'].values)\n",
    "    print('num bad bins: ', np.sum(bad_inds),', num Mb',np.sum(badbin_lens)/1e6)\n",
    "    badbins_combined.append( badbins.iloc[ (badbin_lens > (binSize*num_bad_conseq)) ] )\n",
    "\n",
    "badbins_combined = pd.concat(badbins_combined)\n",
    "badbins_combined.sort_values(['chr','start','stop'],inplace=True) #just in case \n",
    "badbins_combined = bf.merge(badbins_combined, cols=['chr','start','stop'])\n",
    "\n",
    "badbin_lens = (badbins_combined['stop'].values - badbins_combined['start'].values)\n",
    "print('num gaps: ',len(badbins_combined),', num Mb',np.sum(badbin_lens)/1e6)\n",
    "badbins_combined.to_csv( '/home1/yxiao977/sc1/test_func/'+now+'_gaps_'+genomeName+'_binSize'+str(binSize)+\n",
    "                        '_numconseq'+str(num_bad_conseq)+'.bed',   \n",
    "                        sep='\\t', index=False, header=False, columns=['chr','start','stop'])"
   ]
  },
  {
   "cell_type": "code",
   "execution_count": null,
   "metadata": {},
   "outputs": [],
   "source": [
    "! ./akita_data.py -g ~/sc1/test_func/231015_gaps_dinoflagellate_binSize5000_numconseq10.bed --sample 1 -l 250000 --local -o ~/sc1/train_akita/data/4m_unfiltered --as_obsexp -p 8 -t .1 -v .1 -w 5000 --snap 5000 --stride_train 250000 --stride_test 50000 ~/sc1/train_akita/data/GSE152150_Smic1.1N.fa ~/sc1/train_akita/data/unfiltered_cools.txt"
   ]
  },
  {
   "cell_type": "code",
   "execution_count": 18,
   "metadata": {},
   "outputs": [
    {
     "name": "stdout",
     "output_type": "stream",
     "text": [
      "[\"--crop\", \"0\", \"-d\", \"2\", \"-k\", \"0\", \"-w\", \"5000\", \"--clip\", \"2.000000\", \"--as_obsexp\", \"/home1/yxiao977/sc1/test_func/test.cool\", \"/home1/yxiao977/sc1/train_akita/data/4m_unfiltered/sequences.bed\", \"/home1/yxiao977/sc1/train_akita/data/4m_unfiltered/seqs_cov/0.h5'\"]\n"
     ]
    }
   ],
   "source": [
    "t = \"--crop 0 -d 2 -k 0 -w 5000 --clip 2.000000 --as_obsexp /home1/yxiao977/sc1/test_func/test.cool /home1/yxiao977/sc1/train_akita/data/4m_unfiltered/sequences.bed /home1/yxiao977/sc1/train_akita/data/4m_unfiltered/seqs_cov/0.h5'\"\n",
    "t = t.split(\" \")\n",
    "import json\n",
    "print(json.dumps(t))"
   ]
  },
  {
   "cell_type": "code",
   "execution_count": null,
   "metadata": {},
   "outputs": [],
   "source": [
    "import data_util\n",
    "import cooler\n",
    "\n",
    "output_path = \"/home1/yxiao977/sc1/test_func/test_imap_filtered.cool\"\n",
    "clr = cooler.Cooler(\"/home1/yxiao977/sc1/train_akita/data/5000res_Dplus_hic.cool\")\n",
    "\n",
    "bin_mask = data_util.generate_bin_mask(\n",
    "    clr, [data_util.cis_total_ratio_filter(thres=0.5)]\n",
    ")\n",
    "data_util.create_filtered_cooler(\n",
    "    output_path, clr, bin_mask, chunksize=10_000_000, nproc=16\n",
    ")"
   ]
  },
  {
   "cell_type": "code",
   "execution_count": 11,
   "metadata": {},
   "outputs": [],
   "source": [
    "import cooler \n",
    "\n",
    "clr = cooler.Cooler('/home1/yxiao977/sc1/train_akita/data/5000res_Dplus_hic.cool')\n",
    "clr2 = cooler.Cooler('/home1/yxiao977/sc1/test_func/5000res_Dplus_0.5filtered.cool')\n",
    "clr3 = cooler.Cooler('/home1/yxiao977/sc1/test_func/test_imap_filtered.cool')\n",
    "clr4 = cooler.Cooler('/home1/yxiao977/sc1/test_func/test_imap_filtered.mcool::resolutions/5000')"
   ]
  },
  {
   "cell_type": "code",
   "execution_count": 12,
   "metadata": {},
   "outputs": [
    {
     "data": {
      "text/html": [
       "<div>\n",
       "<style scoped>\n",
       "    .dataframe tbody tr th:only-of-type {\n",
       "        vertical-align: middle;\n",
       "    }\n",
       "\n",
       "    .dataframe tbody tr th {\n",
       "        vertical-align: top;\n",
       "    }\n",
       "\n",
       "    .dataframe thead th {\n",
       "        text-align: right;\n",
       "    }\n",
       "</style>\n",
       "<table border=\"1\" class=\"dataframe\">\n",
       "  <thead>\n",
       "    <tr style=\"text-align: right;\">\n",
       "      <th></th>\n",
       "      <th>chrom</th>\n",
       "      <th>start</th>\n",
       "      <th>end</th>\n",
       "      <th>weight</th>\n",
       "    </tr>\n",
       "  </thead>\n",
       "  <tbody>\n",
       "    <tr>\n",
       "      <th>145652</th>\n",
       "      <td>chr85_pilon</td>\n",
       "      <td>60000</td>\n",
       "      <td>65000</td>\n",
       "      <td>NaN</td>\n",
       "    </tr>\n",
       "  </tbody>\n",
       "</table>\n",
       "</div>"
      ],
      "text/plain": [
       "              chrom  start    end  weight\n",
       "145652  chr85_pilon  60000  65000     NaN"
      ]
     },
     "execution_count": 12,
     "metadata": {},
     "output_type": "execute_result"
    }
   ],
   "source": [
    "clr4.bins().fetch('chr85_pilon:60000-65000')"
   ]
  },
  {
   "cell_type": "code",
   "execution_count": 7,
   "metadata": {},
   "outputs": [
    {
     "data": {
      "text/html": [
       "<div>\n",
       "<style scoped>\n",
       "    .dataframe tbody tr th:only-of-type {\n",
       "        vertical-align: middle;\n",
       "    }\n",
       "\n",
       "    .dataframe tbody tr th {\n",
       "        vertical-align: top;\n",
       "    }\n",
       "\n",
       "    .dataframe thead th {\n",
       "        text-align: right;\n",
       "    }\n",
       "</style>\n",
       "<table border=\"1\" class=\"dataframe\">\n",
       "  <thead>\n",
       "    <tr style=\"text-align: right;\">\n",
       "      <th></th>\n",
       "      <th>chrom</th>\n",
       "      <th>start</th>\n",
       "      <th>end</th>\n",
       "      <th>weight</th>\n",
       "      <th>weight_thres0.5</th>\n",
       "    </tr>\n",
       "  </thead>\n",
       "  <tbody>\n",
       "    <tr>\n",
       "      <th>145652</th>\n",
       "      <td>chr85_pilon</td>\n",
       "      <td>60000</td>\n",
       "      <td>65000</td>\n",
       "      <td>NaN</td>\n",
       "      <td>NaN</td>\n",
       "    </tr>\n",
       "  </tbody>\n",
       "</table>\n",
       "</div>"
      ],
      "text/plain": [
       "              chrom  start    end  weight  weight_thres0.5\n",
       "145652  chr85_pilon  60000  65000     NaN              NaN"
      ]
     },
     "execution_count": 7,
     "metadata": {},
     "output_type": "execute_result"
    }
   ],
   "source": [
    "# filtered\n",
    "clr2.bins().fetch('chr85_pilon:60000-65000')"
   ]
  },
  {
   "cell_type": "code",
   "execution_count": 8,
   "metadata": {},
   "outputs": [
    {
     "data": {
      "text/html": [
       "<div>\n",
       "<style scoped>\n",
       "    .dataframe tbody tr th:only-of-type {\n",
       "        vertical-align: middle;\n",
       "    }\n",
       "\n",
       "    .dataframe tbody tr th {\n",
       "        vertical-align: top;\n",
       "    }\n",
       "\n",
       "    .dataframe thead th {\n",
       "        text-align: right;\n",
       "    }\n",
       "</style>\n",
       "<table border=\"1\" class=\"dataframe\">\n",
       "  <thead>\n",
       "    <tr style=\"text-align: right;\">\n",
       "      <th></th>\n",
       "      <th>chrom</th>\n",
       "      <th>start</th>\n",
       "      <th>end</th>\n",
       "    </tr>\n",
       "  </thead>\n",
       "  <tbody>\n",
       "    <tr>\n",
       "      <th>145652</th>\n",
       "      <td>chr85_pilon</td>\n",
       "      <td>60000</td>\n",
       "      <td>65000</td>\n",
       "    </tr>\n",
       "  </tbody>\n",
       "</table>\n",
       "</div>"
      ],
      "text/plain": [
       "              chrom  start    end\n",
       "145652  chr85_pilon  60000  65000"
      ]
     },
     "execution_count": 8,
     "metadata": {},
     "output_type": "execute_result"
    }
   ],
   "source": [
    "# zoomified filtered\n",
    "clr3.bins().fetch('chr85_pilon:60000-65000')"
   ]
  },
  {
   "cell_type": "code",
   "execution_count": 17,
   "metadata": {},
   "outputs": [
    {
     "data": {
      "text/html": [
       "<div>\n",
       "<style scoped>\n",
       "    .dataframe tbody tr th:only-of-type {\n",
       "        vertical-align: middle;\n",
       "    }\n",
       "\n",
       "    .dataframe tbody tr th {\n",
       "        vertical-align: top;\n",
       "    }\n",
       "\n",
       "    .dataframe thead th {\n",
       "        text-align: right;\n",
       "    }\n",
       "</style>\n",
       "<table border=\"1\" class=\"dataframe\">\n",
       "  <thead>\n",
       "    <tr style=\"text-align: right;\">\n",
       "      <th></th>\n",
       "      <th>chrom</th>\n",
       "      <th>start</th>\n",
       "      <th>end</th>\n",
       "      <th>weight</th>\n",
       "      <th>weight_thres0.5</th>\n",
       "    </tr>\n",
       "  </thead>\n",
       "  <tbody>\n",
       "    <tr>\n",
       "      <th>145652</th>\n",
       "      <td>chr85_pilon</td>\n",
       "      <td>60000</td>\n",
       "      <td>65000</td>\n",
       "      <td>0.009113</td>\n",
       "      <td>NaN</td>\n",
       "    </tr>\n",
       "  </tbody>\n",
       "</table>\n",
       "</div>"
      ],
      "text/plain": [
       "              chrom  start    end    weight  weight_thres0.5\n",
       "145652  chr85_pilon  60000  65000  0.009113              NaN"
      ]
     },
     "execution_count": 17,
     "metadata": {},
     "output_type": "execute_result"
    }
   ],
   "source": [
    "# original\n",
    "clr2.bins().fetch('chr85_pilon:60000-65000')"
   ]
  },
  {
   "cell_type": "code",
   "execution_count": null,
   "metadata": {},
   "outputs": [],
   "source": []
  }
 ],
 "metadata": {
  "kernelspec": {
   "display_name": "akita",
   "language": "python",
   "name": "python3"
  },
  "language_info": {
   "codemirror_mode": {
    "name": "ipython",
    "version": 3
   },
   "file_extension": ".py",
   "mimetype": "text/x-python",
   "name": "python",
   "nbconvert_exporter": "python",
   "pygments_lexer": "ipython3",
   "version": "3.9.18"
  }
 },
 "nbformat": 4,
 "nbformat_minor": 2
}
