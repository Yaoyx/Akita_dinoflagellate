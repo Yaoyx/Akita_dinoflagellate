{
 "cells": [
  {
   "cell_type": "code",
   "execution_count": 1,
   "metadata": {},
   "outputs": [],
   "source": [
    "import sys\n",
    "sys.path.append('/home1/yxiao977/labwork')\n",
    "import test_func "
   ]
  },
  {
   "cell_type": "code",
   "execution_count": 2,
   "metadata": {},
   "outputs": [
    {
     "name": "stderr",
     "output_type": "stream",
     "text": [
      "2023-10-01 13:30:05,743 - one - DEBUG : Start to find bad bins\n",
      "2023-10-01 13:30:05,771 - one - DEBUG : Start to find good bins\n",
      "2023-10-01 13:30:05,827 - one - DEBUG : Start to create pixel dataframe based on binid1\n",
      "2023-10-01 13:35:20,276 - one - DEBUG : Start to create pixel dataframe based on binid2\n",
      "2023-10-01 13:53:01,865 - one - DEBUG : Start to sum up counts\n",
      "2023-10-01 13:53:02,538 - one - INFO : Pass bin1 checkpoint\n",
      "2023-10-01 13:53:16,178 - one - INFO : Pass bin2 checkpoint\n"
     ]
    }
   ],
   "source": [
    "request = {\n",
    "    'hic_path':'/home1/yxiao977/sc1/train_akita/data/5000res_0.5thres_hic_filter_both_bin.cool',\n",
    "    'cis_total_path':'/home1/yxiao977/sc1/train_akita/data/5000res_bins_cistotal_ratio.bed'\n",
    "}\n",
    "\n",
    "test_func.test_cis_total_filter(request)"
   ]
  },
  {
   "cell_type": "code",
   "execution_count": null,
   "metadata": {},
   "outputs": [],
   "source": []
  }
 ],
 "metadata": {
  "kernelspec": {
   "display_name": "akita",
   "language": "python",
   "name": "python3"
  },
  "language_info": {
   "codemirror_mode": {
    "name": "ipython",
    "version": 3
   },
   "file_extension": ".py",
   "mimetype": "text/x-python",
   "name": "python",
   "nbconvert_exporter": "python",
   "pygments_lexer": "ipython3",
   "version": "3.9.18"
  },
  "orig_nbformat": 4
 },
 "nbformat": 4,
 "nbformat_minor": 2
}
