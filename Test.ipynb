{
 "cells": [
  {
   "cell_type": "code",
   "execution_count": 1,
   "metadata": {},
   "outputs": [
    {
     "name": "stderr",
     "output_type": "stream",
     "text": [
      "/home1/yxiao977/.conda/envs/akita/lib/python3.9/site-packages/cooltools/lib/numutils.py:652: NumbaDeprecationWarning: The 'nopython' keyword argument was not supplied to the 'numba.jit' decorator. The implicit default value for this argument is currently False, but it will be changed to True in Numba 0.59.0. See https://numba.readthedocs.io/en/stable/reference/deprecation.html#deprecation-of-object-mode-fall-back-behaviour-when-using-jit for details.\n",
      "  def iterative_correction_symmetric(\n",
      "/home1/yxiao977/.conda/envs/akita/lib/python3.9/site-packages/cooltools/lib/numutils.py:727: NumbaDeprecationWarning: The 'nopython' keyword argument was not supplied to the 'numba.jit' decorator. The implicit default value for this argument is currently False, but it will be changed to True in Numba 0.59.0. See https://numba.readthedocs.io/en/stable/reference/deprecation.html#deprecation-of-object-mode-fall-back-behaviour-when-using-jit for details.\n",
      "  def iterative_correction_asymmetric(x, max_iter=1000, tol=1e-5, verbose=False):\n",
      "2023-10-12 12:54:28,486 - test_func - DEBUG : Start to generate a toy example...\n",
      "/home1/yxiao977/.conda/envs/akita/lib/python3.9/site-packages/cooler/balance.py:112: RuntimeWarning: Mean of empty slice.\n",
      "  scale = nzmarg.mean()\n",
      "/home1/yxiao977/.conda/envs/akita/lib/python3.9/site-packages/numpy/core/_methods.py:189: RuntimeWarning: invalid value encountered in double_scalars\n",
      "  ret = ret.dtype.type(ret / rcount)\n",
      "2023-10-12 12:54:28,841 - test_func - DEBUG : Start to test filter_pixels function...\n",
      "2023-10-12 12:54:28,848 - data_util - DEBUG : Start to create cooler file...\n",
      "/home1/yxiao977/.conda/envs/akita/lib/python3.9/site-packages/cooler/core/_tableops.py:120: FutureWarning: is_categorical_dtype is deprecated and will be removed in a future version. Use isinstance(dtype, CategoricalDtype) instead\n",
      "  elif is_categorical_dtype(data):\n",
      "2023-10-12 12:54:28,930 - data_util - DEBUG : done1\n",
      "2023-10-12 12:54:28,935 - test_func - DEBUG : Start to examine the result...\n",
      "/home1/yxiao977/labwork/Akita_dinoflagellate/test_func.py:72: RuntimeWarning: invalid value encountered in true_divide\n",
      "  cis_total_cov_filtered = coverage_filtered[0] / coverage_filtered[1]\n",
      "2023-10-12 12:54:28,946 - test_func - INFO : \n",
      "\n",
      "######### Pass the test #########\n"
     ]
    }
   ],
   "source": [
    "import os \n",
    "import sys\n",
    "cwd = os.getcwd()\n",
    "sys.path.append(cwd)\n",
    "import test_func\n",
    "\n",
    "test_func.test_cis_total_filter(0.5)"
   ]
  },
  {
   "cell_type": "code",
   "execution_count": null,
   "metadata": {},
   "outputs": [],
   "source": []
  }
 ],
 "metadata": {
  "kernelspec": {
   "display_name": "akita",
   "language": "python",
   "name": "python3"
  },
  "language_info": {
   "codemirror_mode": {
    "name": "ipython",
    "version": 3
   },
   "file_extension": ".py",
   "mimetype": "text/x-python",
   "name": "python",
   "nbconvert_exporter": "python",
   "pygments_lexer": "ipython3",
   "version": "3.9.18"
  }
 },
 "nbformat": 4,
 "nbformat_minor": 2
}
