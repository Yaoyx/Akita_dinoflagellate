{
 "cells": [
  {
   "cell_type": "markdown",
   "metadata": {},
   "source": [
    "# Test"
   ]
  },
  {
   "cell_type": "code",
   "execution_count": null,
   "metadata": {},
   "outputs": [],
   "source": [
    "import os \n",
    "import sys\n",
    "cwd = os.getcwd()\n",
    "sys.path.append(cwd)\n",
    "import test_data_util\n",
    "\n",
    "test_data_util.TestClass.setup_class()\n",
    "threshold = 0.5\n",
    "test = test_data_util.TestClass()\n",
    "test.test_generate_bin_mask()\n",
    "test.test_create_filtered_cooler(threshold)\n",
    "\n",
    "# os.remove(['test_data_util.cool', f'test_data_util_{thres}filtered.cool'])"
   ]
  },
  {
   "cell_type": "markdown",
   "metadata": {},
   "source": [
    "# Application"
   ]
  },
  {
   "cell_type": "code",
   "execution_count": null,
   "metadata": {},
   "outputs": [],
   "source": [
    "import data_util\n",
    "import cooler\n",
    "\n",
    "output_path = \"/home1/yxiao977/sc1/test_func/test_imap_filtered.cool\"\n",
    "clr = cooler.Cooler(\"/home1/yxiao977/sc1/train_akita/data/5000res_Dplus_hic.cool\")\n",
    "\n",
    "bin_mask = data_util.generate_bin_mask(\n",
    "    clr, [data_util.cis_total_ratio_filter(thres=0.5)]\n",
    ")\n",
    "data_util.create_filtered_cooler(\n",
    "    output_path, clr, bin_mask, chunksize=10_000_000, nproc=16\n",
    ")"
   ]
  },
  {
   "cell_type": "code",
   "execution_count": null,
   "metadata": {},
   "outputs": [],
   "source": [
    "import data_util\n",
    "\n",
    "hic_target_files = ['/home1/yxiao977/sc1/test_func/5000res_Dplus_0.5filtered.mcool::/resolutions/5000']\n",
    "genomeName = 'dinoflagellate'\n",
    "output_dir = '/home1/yxiao977/sc1/akita_dinoflagellate/real_data/'\n",
    "\n",
    "data_util.create_gap_file(output_dir, hic_target_files, genomeName, num_bad_conseq=10)"
   ]
  },
  {
   "cell_type": "code",
   "execution_count": null,
   "metadata": {},
   "outputs": [],
   "source": [
    "! ./akita_data.py -g ~/sc1/test_func/231103_gaps_dinoflagellate_binSize5000_numconseq10.bed --sample 1 -l 250000 --local -o ~/sc1/train_akita/data/4m_unfiltered --as_obsexp -p 8 -t .1 -v .1 -w 5000 --snap 5000 --stride_train 250000 --stride_test 50000 ~/sc1/train_akita/data/GSE152150_Smic1.1N.fa ~/sc1/train_akita/data/unfiltered_cools.txt"
   ]
  }
 ],
 "metadata": {
  "kernelspec": {
   "display_name": "akita",
   "language": "python",
   "name": "python3"
  },
  "language_info": {
   "codemirror_mode": {
    "name": "ipython",
    "version": 3
   },
   "file_extension": ".py",
   "mimetype": "text/x-python",
   "name": "python",
   "nbconvert_exporter": "python",
   "pygments_lexer": "ipython3",
   "version": "3.9.18"
  }
 },
 "nbformat": 4,
 "nbformat_minor": 2
}
