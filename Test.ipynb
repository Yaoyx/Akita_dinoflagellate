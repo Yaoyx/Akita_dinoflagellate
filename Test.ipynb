{
 "cells": [
  {
   "cell_type": "code",
   "execution_count": 1,
   "metadata": {},
   "outputs": [],
   "source": [
    "import sys\n",
    "sys.path.append('/home1/yxiao977/labwork')\n",
    "import test_func "
   ]
  },
  {
   "cell_type": "code",
   "execution_count": 2,
   "metadata": {},
   "outputs": [
    {
     "name": "stderr",
     "output_type": "stream",
     "text": [
      "2023-10-01 13:30:05,743 - one - DEBUG : Start to find bad bins\n",
      "2023-10-01 13:30:05,771 - one - DEBUG : Start to find good bins\n",
      "2023-10-01 13:30:05,827 - one - DEBUG : Start to create pixel dataframe based on binid1\n",
      "2023-10-01 13:35:20,276 - one - DEBUG : Start to create pixel dataframe based on binid2\n",
      "2023-10-01 13:53:01,865 - one - DEBUG : Start to sum up counts\n",
      "2023-10-01 13:53:02,538 - one - INFO : Pass bin1 checkpoint\n",
      "2023-10-01 13:53:16,178 - one - INFO : Pass bin2 checkpoint\n"
     ]
    }
   ],
   "source": [
    "request = {\n",
    "    'hic_path':'/home1/yxiao977/sc1/train_akita/data/5000res_0.5thres_hic_filter_both_bin.cool',\n",
    "    'cis_total_path':'/home1/yxiao977/sc1/train_akita/data/5000res_bins_cistotal_ratio.bed'\n",
    "}\n",
    "\n",
    "test_func.test_cis_total_filter(request)"
   ]
  },
  {
   "cell_type": "code",
   "execution_count": 8,
   "metadata": {},
   "outputs": [],
   "source": [
    "### Test need to delete later\n",
    "import cooler\n",
    "import numpy as np\n",
    "clr = cooler.Cooler('/home1/yxiao977/sc1/train_akita/data/5000res_0.5thres_hic_filter_both_bin.mcool::resolutions/5000')\n",
    "chunks = clr.bins()[:10]\n",
    "pixels = clr.pixels().fetch('chr1_pilon:0-500000')"
   ]
  },
  {
   "cell_type": "code",
   "execution_count": 6,
   "metadata": {},
   "outputs": [],
   "source": [
    "masked_bin_table = clr.bins()[:]\n"
   ]
  },
  {
   "cell_type": "code",
   "execution_count": 53,
   "metadata": {},
   "outputs": [],
   "source": [
    "masked_bin_table.loc[test_arry,'weight'] = 2"
   ]
  },
  {
   "cell_type": "code",
   "execution_count": 50,
   "metadata": {},
   "outputs": [],
   "source": [
    "test_arry = np.argwhere((np.array([0, 1, 0, 1]) <= 0.5)).reshape(-1)"
   ]
  },
  {
   "cell_type": "code",
   "execution_count": 55,
   "metadata": {},
   "outputs": [
    {
     "name": "stdout",
     "output_type": "stream",
     "text": [
      "[2 4 6]\n"
     ]
    }
   ],
   "source": [
    "import numpy as np\n",
    "\n",
    "# Sample data\n",
    "data = np.array([1, 2, 3, 4, 5, 6])\n",
    "\n",
    "# Create a mask to select even numbers\n",
    "mask = data % 2 == 0\n",
    "\n",
    "# Use the mask to filter the data\n",
    "filtered_data = data[mask]\n",
    "\n",
    "print(filtered_data)  # Output: [2 4 6]\n"
   ]
  },
  {
   "cell_type": "code",
   "execution_count": 56,
   "metadata": {},
   "outputs": [
    {
     "data": {
      "text/plain": [
       "array([False,  True, False,  True, False,  True])"
      ]
     },
     "execution_count": 56,
     "metadata": {},
     "output_type": "execute_result"
    }
   ],
   "source": [
    "mask"
   ]
  },
  {
   "cell_type": "code",
   "execution_count": 58,
   "metadata": {},
   "outputs": [
    {
     "data": {
      "text/plain": [
       "(147184, 147184)"
      ]
     },
     "execution_count": 58,
     "metadata": {},
     "output_type": "execute_result"
    }
   ],
   "source": [
    "clr.shape"
   ]
  },
  {
   "cell_type": "code",
   "execution_count": 64,
   "metadata": {},
   "outputs": [
    {
     "data": {
      "text/plain": [
       "45"
      ]
     },
     "execution_count": 64,
     "metadata": {},
     "output_type": "execute_result"
    }
   ],
   "source": [
    "clr.pixels().shape[0] // 10000000"
   ]
  },
  {
   "cell_type": "code",
   "execution_count": 81,
   "metadata": {},
   "outputs": [],
   "source": [
    "chunk = clr.pixels()[:10000000]"
   ]
  },
  {
   "cell_type": "code",
   "execution_count": 78,
   "metadata": {},
   "outputs": [],
   "source": [
    "test_mask = [False] * len(chunk)\n",
    "test_mask[0] = True"
   ]
  },
  {
   "cell_type": "code",
   "execution_count": 80,
   "metadata": {},
   "outputs": [],
   "source": [
    "condition = (chunk['bin1_id'].isin(test_mask))"
   ]
  },
  {
   "cell_type": "code",
   "execution_count": 82,
   "metadata": {},
   "outputs": [],
   "source": [
    "chunk.loc[condition] = 0"
   ]
  },
  {
   "cell_type": "code",
   "execution_count": 88,
   "metadata": {},
   "outputs": [
    {
     "data": {
      "text/plain": [
       "'chr2_pilon'"
      ]
     },
     "execution_count": 88,
     "metadata": {},
     "output_type": "execute_result"
    }
   ],
   "source": [
    "clr.chromnames[1/]"
   ]
  },
  {
   "cell_type": "code",
   "execution_count": 91,
   "metadata": {},
   "outputs": [
    {
     "name": "stdout",
     "output_type": "stream",
     "text": [
      "0 0 0\n"
     ]
    }
   ],
   "source": [
    "for i, row in chunk.iterrows():\n",
    "    chrom1, start1, end1 = row\n",
    "    print(chrom1, start1, end1)\n",
    "    break"
   ]
  },
  {
   "cell_type": "code",
   "execution_count": 107,
   "metadata": {},
   "outputs": [],
   "source": [
    "chro, start, end= list(clr.bins()[0])[:3]"
   ]
  },
  {
   "cell_type": "code",
   "execution_count": null,
   "metadata": {},
   "outputs": [],
   "source": []
  }
 ],
 "metadata": {
  "kernelspec": {
   "display_name": "akita",
   "language": "python",
   "name": "python3"
  },
  "language_info": {
   "codemirror_mode": {
    "name": "ipython",
    "version": 3
   },
   "file_extension": ".py",
   "mimetype": "text/x-python",
   "name": "python",
   "nbconvert_exporter": "python",
   "pygments_lexer": "ipython3",
   "version": "3.9.18"
  },
  "orig_nbformat": 4
 },
 "nbformat": 4,
 "nbformat_minor": 2
}
