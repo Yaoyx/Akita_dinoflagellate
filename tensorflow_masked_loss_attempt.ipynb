{
 "cells": [
  {
   "cell_type": "code",
   "execution_count": 1,
   "metadata": {},
   "outputs": [
    {
     "name": "stderr",
     "output_type": "stream",
     "text": [
      "2023-10-17 15:17:31.720415: I tensorflow/core/platform/cpu_feature_guard.cc:182] This TensorFlow binary is optimized to use available CPU instructions in performance-critical operations.\n",
      "To enable the following instructions: AVX2 FMA, in other operations, rebuild TensorFlow with the appropriate compiler flags.\n"
     ]
    }
   ],
   "source": [
    "import numpy as np\n",
    "import tensorrt\n",
    "import tensorflow as tf\n",
    "import keras\n",
    "from keras import layers"
   ]
  },
  {
   "cell_type": "code",
   "execution_count": 9,
   "metadata": {},
   "outputs": [
    {
     "name": "stdout",
     "output_type": "stream",
     "text": [
      "[[ 711  632   71    0    0    0]\n",
      " [  73    8 3215   55  927    0]\n",
      " [  83   91    1  645 1253  927]]\n"
     ]
    }
   ],
   "source": [
    "raw_inputs = [\n",
    "    [711, 632, 71],\n",
    "    [73, 8, 3215, 55, 927],\n",
    "    [83, 91, 1, 645, 1253, 927],\n",
    "]\n",
    "\n",
    "padded_inputs = tf.keras.utils.pad_sequences(raw_inputs, padding=\"post\")\n",
    "print(padded_inputs)"
   ]
  },
  {
   "cell_type": "code",
   "execution_count": 16,
   "metadata": {},
   "outputs": [
    {
     "name": "stdout",
     "output_type": "stream",
     "text": [
      "[[   0  632   71    0    0    0]\n",
      " [  73    8 3215   55  927    0]\n",
      " [  83   91    1  645 1253  927]]\n"
     ]
    }
   ],
   "source": [
    "padded_inputs[0][0] = 0\n",
    "print(padded_inputs)"
   ]
  },
  {
   "cell_type": "code",
   "execution_count": 2,
   "metadata": {},
   "outputs": [],
   "source": [
    "class MaskModel(keras.Model):\n",
    "  def __init__(self):\n",
    "    super().__init__()\n",
    "    # self.mask = layers.Masking(mask_value=-999)\n",
    "    self.conv1 = layers.Conv1D(32, 2, activation='relu')\n",
    "    self.flatten = layers.Flatten()\n",
    "    self.d1 = layers.Dense(128, activation='relu')\n",
    "    self.d2 = layers.Dense(6)\n",
    "\n",
    "  def call(self, x):\n",
    "    # x = self.mask(x)\n",
    "    x = self.conv1(x)\n",
    "    x = self.flatten(x)\n",
    "    x = self.d1(x)\n",
    "    return self.d2(x)\n",
    "\n",
    "# Create an instance of the model\n",
    "model = MaskModel()\n",
    "\n",
    "loss_object = tf.keras.losses.MeanSquaredError()\n",
    "\n",
    "optimizer = tf.keras.optimizers.SGD()\n",
    "\n",
    "train_loss = tf.keras.metrics.Mean(name='train_loss')\n",
    "train_accuracy = tf.keras.metrics.MeanSquaredError(name='train_accuracy')\n"
   ]
  },
  {
   "cell_type": "code",
   "execution_count": 3,
   "metadata": {},
   "outputs": [],
   "source": [
    "@tf.function\n",
    "def train_step(seqs, labels):\n",
    "  with tf.GradientTape() as tape:\n",
    "    # training=True is only needed if there are layers with different\n",
    "    # behavior during training versus inference (e.g. Dropout).\n",
    "    predictions = model(seqs, training=True)\n",
    "    loss = loss_object(labels, predictions)\n",
    "    tf.print(loss)\n",
    "    gradients = tape.gradient(loss, model.trainable_variables)\n",
    "    optimizer.apply_gradients(zip(gradients, model.trainable_variables))\n",
    "\n",
    "  train_loss(loss)\n",
    "  train_accuracy(labels, predictions)"
   ]
  },
  {
   "cell_type": "code",
   "execution_count": 4,
   "metadata": {},
   "outputs": [],
   "source": [
    "# x and y\n",
    "x_train = np.array([[-999, 1, 1, 1, 1, -999]]).astype(\"float32\")\n",
    "y_train = np.array([[8, 3, 0, 8, 2, 1]]).astype(\"float32\")\n",
    "train_ds = tf.data.Dataset.from_tensors((x_train[..., tf.newaxis], y_train[..., tf.newaxis]))\n"
   ]
  },
  {
   "cell_type": "code",
   "execution_count": 5,
   "metadata": {},
   "outputs": [],
   "source": [
    "mask = layers.Masking(mask_value=0)\n",
    "conv1 = layers.Conv1D(1, 1)\n",
    "flatten = layers.Flatten()\n",
    "d1 = layers.Dense(128, activation='relu')\n",
    "d2 = layers.Dense(6)"
   ]
  },
  {
   "cell_type": "code",
   "execution_count": 263,
   "metadata": {},
   "outputs": [
    {
     "name": "stdout",
     "output_type": "stream",
     "text": [
      "tf.Tensor([[False False False False  True False]], shape=(1, 6), dtype=bool)\n",
      "tf.Tensor(\n",
      "[[[0.       ]\n",
      "  [0.       ]\n",
      "  [0.       ]\n",
      "  [0.       ]\n",
      "  [0.9546095]\n",
      "  [0.       ]]], shape=(1, 6, 1), dtype=float32)\n"
     ]
    }
   ],
   "source": [
    "for seqs, labels in train_ds:\n",
    "    seqs = mask(seqs)\n",
    "    print(seqs._keras_mask)\n",
    "    seqs = conv1(seqs)\n",
    "    print(seqs)\n",
    "    # seqs = flatten(seqs)\n",
    "    # print(seqs.shape)\n",
    "    # seqs = d1(seqs)\n",
    "    # seqs = d2(seqs)\n",
    "    # print(seqs)"
   ]
  },
  {
   "cell_type": "code",
   "execution_count": 5,
   "metadata": {},
   "outputs": [
    {
     "name": "stdout",
     "output_type": "stream",
     "text": [
      "7526.60352\n"
     ]
    }
   ],
   "source": [
    "tf.keras.utils.set_random_seed(9)\n",
    "EPOCHS = 1\n",
    "for epoch in range(EPOCHS):\n",
    "  # Reset the metrics at the start of the next epoch\n",
    "  train_loss.reset_states()\n",
    "  train_accuracy.reset_states()\n",
    "\n",
    "  for seqs, labels in train_ds:\n",
    "    train_step(seqs, labels)\n",
    "\n",
    "  # for test_images, test_labels in test_ds:\n",
    "  #   test_step(test_images, test_labels)\n",
    "\n",
    "  # print(\n",
    "  #   f'Epoch {epoch + 1}, '\n",
    "  #   f'Loss: {train_loss.result()}, '\n",
    "  #   f'Accuracy: {train_accuracy.result() * 100}, '\n",
    "  #   f'Test Loss: {test_loss.result()}, '\n",
    "  #   f'Test Accuracy: {test_accuracy.result() * 100}'\n",
    "  # )"
   ]
  },
  {
   "cell_type": "code",
   "execution_count": 7,
   "metadata": {},
   "outputs": [
    {
     "data": {
      "text/plain": [
       "<tf.Tensor: shape=(), dtype=float32, numpy=23.57035>"
      ]
     },
     "execution_count": 7,
     "metadata": {},
     "output_type": "execute_result"
    }
   ],
   "source": [
    "train_loss.result()  "
   ]
  },
  {
   "cell_type": "code",
   "execution_count": 62,
   "metadata": {},
   "outputs": [
    {
     "data": {
      "text/plain": [
       "2.4821999100000003"
      ]
     },
     "execution_count": 62,
     "metadata": {},
     "output_type": "execute_result"
    }
   ],
   "source": [
    "np.mean([2.27850771, 2.51852608, 2.64956594])"
   ]
  },
  {
   "cell_type": "code",
   "execution_count": 6,
   "metadata": {},
   "outputs": [
    {
     "name": "stdout",
     "output_type": "stream",
     "text": [
      "4/4 [==============================] - 0s 2ms/step - loss: 3739404468224.0000\n"
     ]
    },
    {
     "data": {
      "text/plain": [
       "<keras.src.callbacks.History at 0x7f2c50466730>"
      ]
     },
     "execution_count": 6,
     "metadata": {},
     "output_type": "execute_result"
    }
   ],
   "source": [
    "tf.keras.utils.set_random_seed(9)\n",
    "a = keras.Input(shape=(30, 10))                                                          \n",
    "b = layers.Masking(-999999999)(a)                                                         \n",
    "b = layers.Conv1D(3, 3, padding='same')(a)                                                \n",
    "b = layers.Flatten()(b)                                                                   \n",
    "b = layers.Dense(1)(b)                                                                    \n",
    "model = keras.Model(a, b)                                                                \n",
    "                                                                                   \n",
    "x = np.random.random((100, 30, 10))                                                                                                                                                            \n",
    "y = np.random.random((100, 1))                                                     \n",
    "x[30, 15, :] = -999999999                                                          \n",
    "                                                                                   \n",
    "model.compile('adam', 'mse')                                                       \n",
    "model.fit(x, y)"
   ]
  },
  {
   "cell_type": "code",
   "execution_count": 4,
   "metadata": {},
   "outputs": [],
   "source": [
    "def change(a): \n",
    "    def w(b): \n",
    "        def x(c): \n",
    "            def y(d): \n",
    "                def z(e): \n",
    "                    print(a, b, c, d, e) \n",
    "                return z \n",
    "            return y \n",
    "        return x \n",
    "    return w \n",
    "\n",
    "t = change(10)(20)(30)(40)"
   ]
  },
  {
   "cell_type": "code",
   "execution_count": null,
   "metadata": {},
   "outputs": [],
   "source": []
  }
 ],
 "metadata": {
  "kernelspec": {
   "display_name": "akita",
   "language": "python",
   "name": "python3"
  },
  "language_info": {
   "codemirror_mode": {
    "name": "ipython",
    "version": 3
   },
   "file_extension": ".py",
   "mimetype": "text/x-python",
   "name": "python",
   "nbconvert_exporter": "python",
   "pygments_lexer": "ipython3",
   "version": "3.9.18"
  }
 },
 "nbformat": 4,
 "nbformat_minor": 2
}
