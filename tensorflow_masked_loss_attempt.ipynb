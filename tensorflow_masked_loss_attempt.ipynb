{
 "cells": [
  {
   "cell_type": "code",
   "execution_count": 1,
   "metadata": {},
   "outputs": [
    {
     "name": "stderr",
     "output_type": "stream",
     "text": [
      "2023-10-23 12:07:10.205842: I tensorflow/core/util/port.cc:110] oneDNN custom operations are on. You may see slightly different numerical results due to floating-point round-off errors from different computation orders. To turn them off, set the environment variable `TF_ENABLE_ONEDNN_OPTS=0`.\n",
      "2023-10-23 12:07:10.243592: I tensorflow/core/platform/cpu_feature_guard.cc:182] This TensorFlow binary is optimized to use available CPU instructions in performance-critical operations.\n",
      "To enable the following instructions: AVX2 AVX512F AVX512_VNNI AVX512_BF16 FMA, in other operations, rebuild TensorFlow with the appropriate compiler flags.\n"
     ]
    }
   ],
   "source": [
    "import numpy as np\n",
    "import tensorrt\n",
    "import tensorflow as tf\n",
    "import keras\n",
    "from keras import layers\n",
    "from keras import backend\n",
    "\n",
    "import os\n",
    "os.environ[\"CUDA_VISIBLE_DEVICES\"] = \"-1\""
   ]
  },
  {
   "cell_type": "markdown",
   "metadata": {},
   "source": [
    "# Create test model"
   ]
  },
  {
   "cell_type": "code",
   "execution_count": 2,
   "metadata": {},
   "outputs": [],
   "source": [
    "def masked_MeanSquaredError(y_true, y_pred, mask):\n",
    "    mse = tf.keras.losses.MeanSquaredError()\n",
    "    return mse(y_true * mask, y_pred * mask)\n",
    "\n",
    "class MaskModel(keras.Model):\n",
    "  def __init__(self):\n",
    "    super().__init__()\n",
    "    self.conv1 = layers.Conv1D(32, 2, activation='relu')\n",
    "    self.flatten = layers.Flatten()\n",
    "    self.d1 = layers.Dense(12, activation='relu')\n",
    "    self.d2 = layers.Dense(2500)\n",
    "\n",
    "    self.loss_mse = tf.keras.losses.MeanSquaredError()\n",
    "    self.loss_masked_mse= masked_MeanSquaredError\n",
    "    self.optimizer = tf.keras.optimizers.SGD()\n",
    "    self.train_loss = tf.keras.metrics.Mean(name='train_loss')\n",
    "    self.train_accuracy = tf.keras.metrics.MeanSquaredError(name='train_accuracy')\n",
    "\n",
    "\n",
    "\n",
    "  def call(self, x):\n",
    "    x = self.conv1(x)\n",
    "    x = self.flatten(x)\n",
    "    x = self.d1(x)\n",
    "    x = self.d2(x)\n",
    "    return tf.reshape(x, (-1,50,50))\n",
    "  \n",
    "  def train_step(self, data):\n",
    "    seqs, labels, masks = data\n",
    "\n",
    "    with tf.GradientTape() as tape:\n",
    "      # training=True is only needed if there are layers with different\n",
    "      # behavior during training versus inference (e.g. Dropout).\n",
    "      predictions = self(seqs, training=True)\n",
    "      loss1 = self.loss_mse(labels, predictions)\n",
    "      loss2 = self.loss_masked_mse(labels, predictions, masks)\n",
    "\n",
    "    gradients = tape.gradient(loss2, self.trainable_variables)\n",
    "    self.optimizer.apply_gradients(zip(gradients, self.trainable_variables))\n"
   ]
  },
  {
   "cell_type": "code",
   "execution_count": 3,
   "metadata": {},
   "outputs": [
    {
     "name": "stderr",
     "output_type": "stream",
     "text": [
      "2023-10-23 12:07:18.807197: E tensorflow/compiler/xla/stream_executor/cuda/cuda_driver.cc:268] failed call to cuInit: CUDA_ERROR_NO_DEVICE: no CUDA-capable device is detected\n",
      "2023-10-23 12:07:18.807335: I tensorflow/compiler/xla/stream_executor/cuda/cuda_diagnostics.cc:168] retrieving CUDA diagnostic information for host: b17-05.hpc.usc.edu\n",
      "2023-10-23 12:07:18.807348: I tensorflow/compiler/xla/stream_executor/cuda/cuda_diagnostics.cc:175] hostname: b17-05.hpc.usc.edu\n",
      "2023-10-23 12:07:18.807432: I tensorflow/compiler/xla/stream_executor/cuda/cuda_diagnostics.cc:199] libcuda reported version is: 510.73.8\n",
      "2023-10-23 12:07:18.807529: I tensorflow/compiler/xla/stream_executor/cuda/cuda_diagnostics.cc:203] kernel reported version is: 510.73.8\n",
      "2023-10-23 12:07:18.807538: I tensorflow/compiler/xla/stream_executor/cuda/cuda_diagnostics.cc:309] kernel version seems to match DSO: 510.73.8\n"
     ]
    }
   ],
   "source": [
    "# Create an instance of the model\n",
    "model = MaskModel()\n",
    "\n",
    "loss_mse = tf.keras.losses.MeanSquaredError()\n",
    "loss_masked_mse= masked_MeanSquaredError\n",
    "\n",
    "optimizer = tf.keras.optimizers.SGD()\n",
    "\n",
    "train_loss = tf.keras.metrics.Mean(name='train_loss')\n",
    "train_accuracy = tf.keras.metrics.MeanSquaredError(name='train_accuracy')\n",
    "\n",
    "@tf.function\n",
    "def train_step(seqs, labels, masks):\n",
    "  with tf.GradientTape() as tape:\n",
    "    # training=True is only needed if there are layers with different\n",
    "    # behavior during training versus inference (e.g. Dropout).\n",
    "    predictions = model(seqs, training=True)\n",
    "    loss1 = loss_mse(labels, predictions)\n",
    "    loss2 = loss_masked_mse(labels, predictions, masks)\n",
    "\n",
    "    tf.print('loss_mse: ', loss1)\n",
    "    tf.print('loss_masked_mse: ', loss2)\n",
    "    tf.print('---')\n",
    "\n",
    "    gradients = tape.gradient(loss2, model.trainable_variables)\n",
    "    optimizer.apply_gradients(zip(gradients, model.trainable_variables))\n",
    "\n",
    "  # train_loss(loss)\n",
    "  # train_accuracy(labels, predictions)"
   ]
  },
  {
   "cell_type": "markdown",
   "metadata": {},
   "source": [
    "# Read Data"
   ]
  },
  {
   "cell_type": "code",
   "execution_count": 9,
   "metadata": {},
   "outputs": [],
   "source": [
    "def file_to_records(filename):\n",
    "  return tf.data.TFRecordDataset(filename, compression_type='ZLIB')"
   ]
  },
  {
   "cell_type": "code",
   "execution_count": 10,
   "metadata": {},
   "outputs": [],
   "source": [
    "# seq_depth = 4 here, as four nucleotides\n",
    "def parse_proto(example_protos, seq_length=25000, seq_depth=4, target_length=50, num_targets=50):\n",
    "      \"\"\"Parse TFRecord protobuf.\"\"\"\n",
    "\n",
    "      # define features\n",
    "      features = {\n",
    "        'sequence': tf.io.FixedLenFeature([], tf.string),\n",
    "        'target': tf.io.FixedLenFeature([], tf.string),\n",
    "        'mask': tf.io.FixedLenFeature([], tf.string)\n",
    "      }\n",
    "\n",
    "      # parse example into features\n",
    "      parsed_features = tf.io.parse_single_example(example_protos, features=features)\n",
    "\n",
    "      # decode sequence\n",
    "      sequence = tf.io.decode_raw(parsed_features['sequence'], tf.uint8)\n",
    "      sequence = tf.reshape(sequence, [seq_length, seq_depth])\n",
    "    #     if self.seq_length_crop is not None:\n",
    "    #       crop_len = (self.seq_length - self.seq_length_crop) // 2\n",
    "    #       sequence = sequence[crop_len:-crop_len,:]\n",
    "      sequence = tf.cast(sequence, tf.float32)\n",
    "        \n",
    "      # decode targets\n",
    "      targets = tf.io.decode_raw(parsed_features['target'], tf.float16)\n",
    "      targets = tf.reshape(targets, [target_length, num_targets])\n",
    "      targets = tf.cast(targets, tf.float32)\n",
    "\n",
    "      #decode mask\n",
    "      mask = tf.io.decode_raw(parsed_features['mask'], tf.float16)\n",
    "      mask = tf.reshape(mask, [target_length, num_targets])\n",
    "      mask = tf.cast(mask, tf.float32)\n",
    "\n",
    "      return sequence, targets, mask\n"
   ]
  },
  {
   "cell_type": "code",
   "execution_count": 11,
   "metadata": {},
   "outputs": [],
   "source": [
    "tfr_path = '/home1/yxiao977/sc1/akita_dinoflagellate/squares_train_test_mask/*'\n",
    "# ds = tf.data.TFRecordDataset(tfr_path, compression_type='ZLIB')"
   ]
  },
  {
   "cell_type": "code",
   "execution_count": 12,
   "metadata": {},
   "outputs": [],
   "source": [
    "import glob\n",
    "from natsort import natsorted\n",
    "tfr_files = natsorted(glob.glob(tfr_path))\n",
    "dataset = tf.data.Dataset.from_tensor_slices(tfr_files[:2])\n",
    "\n",
    "# repeat, so iteration on the dataset can be infinite untill you call stop\n",
    "# dataset = dataset.repeat()\n",
    "\n",
    "# interleave files\n",
    "dataset = dataset.interleave(map_func=file_to_records,\n",
    "    cycle_length=4,\n",
    "    num_parallel_calls=tf.data.experimental.AUTOTUNE)\n",
    "\n",
    "# shuffle\n",
    "dataset = dataset.shuffle(buffer_size=128, reshuffle_each_iteration=True)\n",
    "\n",
    "dataset = dataset.map(parse_proto) #self.rna_mode\n",
    "\n",
    "# batch\n",
    "dataset = dataset.batch(32)\n",
    "\n",
    "# prefetch\n",
    "dataset = dataset.prefetch(tf.data.experimental.AUTOTUNE)"
   ]
  },
  {
   "cell_type": "code",
   "execution_count": 13,
   "metadata": {},
   "outputs": [
    {
     "name": "stdout",
     "output_type": "stream",
     "text": [
      "loss_mse:  0.250620306\n",
      "loss_masked_mse:  0.212336317\n",
      "---\n"
     ]
    },
    {
     "name": "stdout",
     "output_type": "stream",
     "text": [
      "loss_mse:  0.257475674\n",
      "loss_masked_mse:  0.216389656\n",
      "---\n"
     ]
    }
   ],
   "source": [
    "tf.keras.utils.set_random_seed(9)\n",
    "\n",
    "EPOCHS = 1\n",
    "# train_ds = [(sequence, target)]\n",
    "for epoch in range(EPOCHS):\n",
    "  # Reset the metrics at the start of the next epoch\n",
    "  train_loss.reset_states()\n",
    "  train_accuracy.reset_states()\n",
    "\n",
    "  for seqs, labels, masks in dataset:\n",
    "    train_step(seqs, labels, masks)\n",
    "\n",
    "  # for test_images, test_labels in test_ds:\n",
    "  #   test_step(test_images, test_labels)\n",
    "\n",
    "  # print(\n",
    "  #   f'Epoch {epoch + 1}, '\n",
    "  #   f'Loss: {train_loss.result()}, '\n",
    "  #   f'Accuracy: {train_accuracy.result() * 100}, '\n",
    "  #   f'Test Loss: {test_loss.result()}, '\n",
    "  #   f'Test Accuracy: {test_accuracy.result() * 100}'\n",
    "  # )\n"
   ]
  },
  {
   "cell_type": "code",
   "execution_count": 14,
   "metadata": {},
   "outputs": [],
   "source": [
    "test_pred = model(seqs, training=False)"
   ]
  },
  {
   "cell_type": "code",
   "execution_count": 16,
   "metadata": {},
   "outputs": [
    {
     "data": {
      "text/plain": [
       "<matplotlib.image.AxesImage at 0x7fbafaa988b0>"
      ]
     },
     "execution_count": 16,
     "metadata": {},
     "output_type": "execute_result"
    },
    {
     "data": {
      "image/png": "[encoded data removed]",
      "text/plain": [
       "<Figure size 480x480 with 1 Axes>"
      ]
     },
     "metadata": {},
     "output_type": "display_data"
    }
   ],
   "source": [
    "from matplotlib import pyplot as plt\n",
    "plt.matshow(test_pred[0])"
   ]
  },
  {
   "cell_type": "markdown",
   "metadata": {},
   "source": [
    "# Plot loss during training"
   ]
  },
  {
   "cell_type": "code",
   "execution_count": null,
   "metadata": {},
   "outputs": [],
   "source": [
    "import numpy as np \n",
    "from tensorflow import keras\n",
    "from matplotlib import pyplot as plt\n",
    "from IPython.display import clear_output\n",
    "\n",
    "class PlotLearning(keras.callbacks.Callback):\n",
    "    \"\"\"\n",
    "    Callback to plot the learning curves of the model during training.\n",
    "    \"\"\"\n",
    "    def on_train_begin(self, logs={}):\n",
    "        self.metrics = {}\n",
    "        for metric in logs:\n",
    "            self.metrics[metric] = []\n",
    "            \n",
    "\n",
    "    def on_epoch_end(self, epoch, logs={}):\n",
    "        # Storing metrics\n",
    "        for metric in logs:\n",
    "            if metric in self.metrics:\n",
    "                self.metrics[metric].append(logs.get(metric))\n",
    "            else:\n",
    "                self.metrics[metric] = [logs.get(metric)]\n",
    "        \n",
    "        # Plotting\n",
    "        metrics = [x for x in logs if 'val' not in x]\n",
    "        \n",
    "        f, axs = plt.subplots(1, len(metrics), figsize=(15,5))\n",
    "        clear_output(wait=True)\n",
    "\n",
    "        for i, metric in enumerate(metrics):\n",
    "            axs[i].plot(range(1, epoch + 2), \n",
    "                        self.metrics[metric], \n",
    "                        label=metric)\n",
    "            if logs['val_' + metric]:\n",
    "                axs[i].plot(range(1, epoch + 2), \n",
    "                            self.metrics['val_' + metric], \n",
    "                            label='val_' + metric)\n",
    "                \n",
    "            axs[i].legend()\n",
    "            axs[i].grid()\n",
    "\n",
    "        plt.tight_layout()\n",
    "        plt.show()"
   ]
  },
  {
   "cell_type": "markdown",
   "metadata": {},
   "source": [
    "# Simulation test"
   ]
  },
  {
   "cell_type": "code",
   "execution_count": 7,
   "metadata": {},
   "outputs": [],
   "source": [
    "for d in ds.take(1):\n",
    "      t = parse_proto(d)"
   ]
  },
  {
   "cell_type": "code",
   "execution_count": null,
   "metadata": {},
   "outputs": [],
   "source": [
    "target_obs = target.copy()\n",
    "num_missing_bins = np.random.randint(10)\n",
    "id_missing_bins = #choose num_missing_bins\n",
    "target_obs[id_missing_bins, :] = np.nan\n",
    "target_obs[:,id_missing_bins] = np.nan"
   ]
  },
  {
   "cell_type": "code",
   "execution_count": null,
   "metadata": {},
   "outputs": [],
   "source": [
    "def get_mask(mymap):\n",
    "    return mask\n",
    "\n",
    "\n",
    "tf.mse(target, prediction)-->  my_masked_loss(target_obs,prediction, mask )\n",
    "\n",
    "\n"
   ]
  },
  {
   "cell_type": "code",
   "execution_count": 9,
   "metadata": {},
   "outputs": [
    {
     "data": {
      "image/png": "[encoded data removed]",
      "text/plain": [
       "<Figure size 1000x500 with 2 Axes>"
      ]
     },
     "metadata": {},
     "output_type": "display_data"
    }
   ],
   "source": [
    "from matplotlib import pyplot as plt\n",
    "sequence = tf.cast(t[0], tf.float32)\n",
    "sequence = sequence[tf.newaxis,...]\n",
    "target = t[1].numpy()\n",
    "# target[20:25] = np.nan\n",
    "# target[:, 20:25] = np.nan\n",
    "target = tf.cast(target, tf.float32)\n",
    "\n",
    "fake_prediction = np.random.normal(loc=50, scale=100,size=(50, 50))\n",
    "mask = (target == 0)\n",
    "fake_prediction[mask] = 9999\n",
    "\n",
    "f, axes = plt.subplots(1, 2)\n",
    "axes[0].matshow(target)\n",
    "axes[0].title.set_text('Target')\n",
    "axes[1].matshow(fake_prediction)\n",
    "axes[1].title.set_text('Fake_prediction')\n",
    "f.set_size_inches(10, 5)"
   ]
  },
  {
   "cell_type": "code",
   "execution_count": 10,
   "metadata": {},
   "outputs": [
    {
     "name": "stdout",
     "output_type": "stream",
     "text": [
      "unmasked loss:  69190227.3526252\n",
      "masked loss:  13203.443588376193\n"
     ]
    }
   ],
   "source": [
    "loss_object1 = tf.keras.losses.MeanSquaredError()\n",
    "\n",
    "print('unmasked loss: ', loss_object1(target, fake_prediction).numpy())\n",
    "print('masked loss: ', loss_object1(target[~mask], fake_prediction[~mask]).numpy())"
   ]
  },
  {
   "cell_type": "code",
   "execution_count": null,
   "metadata": {},
   "outputs": [],
   "source": []
  }
 ],
 "metadata": {
  "kernelspec": {
   "display_name": "akita",
   "language": "python",
   "name": "python3"
  },
  "language_info": {
   "codemirror_mode": {
    "name": "ipython",
    "version": 3
   },
   "file_extension": ".py",
   "mimetype": "text/x-python",
   "name": "python",
   "nbconvert_exporter": "python",
   "pygments_lexer": "ipython3",
   "version": "3.9.18"
  }
 },
 "nbformat": 4,
 "nbformat_minor": 2
}
