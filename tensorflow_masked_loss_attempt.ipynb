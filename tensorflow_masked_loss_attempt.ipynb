{
 "cells": [
  {
   "cell_type": "code",
   "execution_count": 55,
   "metadata": {},
   "outputs": [],
   "source": [
    "import numpy as np\n",
    "import tensorrt\n",
    "import tensorflow as tf\n",
    "from tensorflow import keras\n",
    "from keras import layers\n",
    "from keras import backend\n",
    "\n",
    "import os\n",
    "os.environ[\"CUDA_VISIBLE_DEVICES\"] = \"-1\""
   ]
  },
  {
   "cell_type": "markdown",
   "metadata": {},
   "source": [
    "# Create test model"
   ]
  },
  {
   "cell_type": "code",
   "execution_count": 167,
   "metadata": {},
   "outputs": [],
   "source": [
    "class MaskModel(tf.keras.Model):\n",
    "  def __init__(self):\n",
    "    super().__init__()\n",
    "    self.conv1 = layers.Conv1D(32, 2, activation='relu')\n",
    "    self.flatten = layers.Flatten()\n",
    "    self.d1 = layers.Dense(12, activation='relu')\n",
    "    self.d2 = layers.Dense(2500)\n",
    "\n",
    "    # self.loss_mse = tf.keras.losses.MeanSquaredError()\n",
    "    # self.loss_masked_mse= masked_MeanSquaredError\n",
    "    # self.optimizer = tf.keras.optimizers.SGD()\n",
    "    # self.train_loss = tf.keras.metrics.Mean(name='train_loss')\n",
    "    # self.train_accuracy = tf.keras.metrics.MeanSquaredError(name='train_accuracy')\n",
    "\n",
    "  def call(self, x):\n",
    "    x = self.conv1(x)\n",
    "    x = self.flatten(x)\n",
    "    x = self.d1(x)\n",
    "    x = self.d2(x)\n",
    "    return tf.reshape(x, (-1,50,50))\n",
    "  \n",
    "  def train_step(self, data):\n",
    "    x, y, masks = data\n",
    "    sample_weight = None\n",
    "\n",
    "    with tf.GradientTape() as tape:\n",
    "      # training=True is only needed if there are layers with different\n",
    "      # behavior during training versus inference (e.g. Dropout).\n",
    "      y_pred = self(x, training=True)\n",
    "      loss = self.loss(y, y_pred)\n",
    "      # loss = self.compiled_loss(y, y_pred,regularization_losses=self.losses)\n",
    "    self._validate_target_and_loss(y, loss)\n",
    "    self.optimizer.minimize(loss, self.trainable_variables, tape=tape)\n",
    "    # gradients = tape.gradient(loss, self.trainable_variables)\n",
    "    # self.optimizer.apply_gradients(zip(gradients, self.trainable_variables))\n",
    "    for m in self.metrics:\n",
    "      print(m.name)\n",
    "\n",
    "    # # Update metrics (includes the metric that tracks the loss)\n",
    "    # for metric in self.compiled_metrics._metrics:\n",
    "    #     if metric.name == \"loss\":\n",
    "    #         metric.update_state(loss)\n",
    "    #     else:\n",
    "    #         metric.update_state(y, y_pred)\n",
    "    # # Return a dict mapping metric names to current value\n",
    "    # # self.compiled_metrics.update_state(y_true=y, y_pred=y_pred, sample_weight=None)\n",
    "    # return {m.name: m.result() for m in self.compiled_metrics._metrics} #self.get_metrics_result() # \n",
    "  \n",
    "    return self.compute_metrics(x, y, y_pred, sample_weight)\n"
   ]
  },
  {
   "cell_type": "code",
   "execution_count": 168,
   "metadata": {},
   "outputs": [],
   "source": [
    "# Create an instance of the model\n",
    "from basenji import metrics\n",
    "\n",
    "def masked_MeanSquaredError(y_true, y_pred):\n",
    "  return tf.keras.losses.mean_squared_error(y_true, y_pred)\n",
    "\n",
    "model = MaskModel()\n",
    "model_metrics = [metrics.PearsonR(50), metrics.R2(50)]\n",
    "model.compile(loss=masked_MeanSquaredError, optimizer=\"adam\", metrics=model_metrics)"
   ]
  },
  {
   "cell_type": "code",
   "execution_count": 169,
   "metadata": {},
   "outputs": [
    {
     "name": "stdout",
     "output_type": "stream",
     "text": [
      "[]\n"
     ]
    }
   ],
   "source": [
    "print(model.metrics)"
   ]
  },
  {
   "cell_type": "markdown",
   "metadata": {},
   "source": [
    "# Read Data"
   ]
  },
  {
   "cell_type": "code",
   "execution_count": 170,
   "metadata": {},
   "outputs": [],
   "source": [
    "def file_to_records(filename):\n",
    "  return tf.data.TFRecordDataset(filename, compression_type='ZLIB')"
   ]
  },
  {
   "cell_type": "code",
   "execution_count": 171,
   "metadata": {},
   "outputs": [],
   "source": [
    "# seq_depth = 4 here, as four nucleotides, num_targets indicates number of values you want to predict for each pixel\n",
    "def parse_proto(example_protos, seq_length=250, seq_depth=4, target_length=50, num_targets=50):\n",
    "      \"\"\"Parse TFRecord protobuf.\"\"\"\n",
    "\n",
    "      # define features\n",
    "      features = {\n",
    "        'sequence': tf.io.FixedLenFeature([], tf.string),\n",
    "        'target': tf.io.FixedLenFeature([], tf.string),\n",
    "        'mask': tf.io.FixedLenFeature([], tf.string)\n",
    "      }\n",
    "\n",
    "      # parse example into features\n",
    "      parsed_features = tf.io.parse_single_example(example_protos, features=features)\n",
    "\n",
    "      # decode sequence\n",
    "      sequence = tf.io.decode_raw(parsed_features['sequence'], tf.uint8)\n",
    "      sequence = tf.reshape(sequence, [seq_length, seq_depth])\n",
    "    #     if self.seq_length_crop is not None:\n",
    "    #       crop_len = (self.seq_length - self.seq_length_crop) // 2\n",
    "    #       sequence = sequence[crop_len:-crop_len,:]\n",
    "      sequence = tf.cast(sequence, tf.float32)\n",
    "        \n",
    "      # decode targets\n",
    "      targets = tf.io.decode_raw(parsed_features['target'], tf.float16)\n",
    "      targets = tf.reshape(targets, [target_length, num_targets])\n",
    "      targets = tf.cast(targets, tf.float32)\n",
    "\n",
    "      #decode mask\n",
    "      mask = tf.io.decode_raw(parsed_features['mask'], tf.float16)\n",
    "      mask = tf.reshape(mask, [target_length, num_targets])\n",
    "      mask = tf.cast(mask, tf.float32)\n",
    "\n",
    "      return sequence, targets, mask\n"
   ]
  },
  {
   "cell_type": "code",
   "execution_count": 172,
   "metadata": {},
   "outputs": [],
   "source": [
    "tfr_path = '/home1/yxiao977/sc1/akita_dinoflagellate/squares_train_test_mask/*'"
   ]
  },
  {
   "cell_type": "code",
   "execution_count": 173,
   "metadata": {},
   "outputs": [],
   "source": [
    "import glob\n",
    "from natsort import natsorted\n",
    "tfr_files = natsorted(glob.glob(tfr_path))\n",
    "dataset = tf.data.Dataset.from_tensor_slices(tfr_files)\n",
    "\n",
    "# repeat, so iteration on the dataset can be infinite untill you call stop\n",
    "# dataset = dataset.repeat()\n",
    "\n",
    "# interleave files\n",
    "dataset = dataset.interleave(map_func=file_to_records,\n",
    "    cycle_length=4,\n",
    "    num_parallel_calls=tf.data.experimental.AUTOTUNE)\n",
    "\n",
    "# shuffle\n",
    "dataset = dataset.shuffle(buffer_size=128, reshuffle_each_iteration=True)\n",
    "\n",
    "dataset = dataset.map(parse_proto) #self.rna_mode\n",
    "\n",
    "# batch\n",
    "dataset = dataset.batch(2)\n",
    "\n",
    "# prefetch\n",
    "dataset = dataset.prefetch(tf.data.experimental.AUTOTUNE)"
   ]
  },
  {
   "cell_type": "code",
   "execution_count": 174,
   "metadata": {},
   "outputs": [
    {
     "name": "stdout",
     "output_type": "stream",
     "text": [
      "Epoch 1/15\n"
     ]
    },
    {
     "name": "stdout",
     "output_type": "stream",
     "text": [
      "pearsonr\n",
      "r2\n",
      "10/10 [==============================] - 1s 7ms/step - pearsonr: 0.1098 - r2: -0.3198\n",
      "Epoch 2/15\n",
      "10/10 [==============================] - 0s 3ms/step - pearsonr: 0.3130 - r2: -0.0469\n",
      "Epoch 3/15\n",
      "10/10 [==============================] - 0s 3ms/step - pearsonr: 0.5501 - r2: 0.2906\n",
      "Epoch 4/15\n",
      "10/10 [==============================] - 0s 3ms/step - pearsonr: 0.6440 - r2: 0.4166\n",
      "Epoch 5/15\n",
      "10/10 [==============================] - 0s 3ms/step - pearsonr: 0.6714 - r2: 0.4530\n",
      "Epoch 6/15\n",
      "10/10 [==============================] - 0s 3ms/step - pearsonr: 0.6746 - r2: 0.4578\n",
      "Epoch 7/15\n",
      "10/10 [==============================] - 0s 3ms/step - pearsonr: 0.6748 - r2: 0.4575\n",
      "Epoch 8/15\n",
      "10/10 [==============================] - 0s 3ms/step - pearsonr: 0.6803 - r2: 0.4649\n",
      "Epoch 9/15\n",
      "10/10 [==============================] - 0s 3ms/step - pearsonr: 0.6842 - r2: 0.4711\n",
      "Epoch 10/15\n",
      "10/10 [==============================] - 0s 4ms/step - pearsonr: 0.6884 - r2: 0.4764\n",
      "Epoch 11/15\n",
      "10/10 [==============================] - 0s 4ms/step - pearsonr: 0.6953 - r2: 0.4851\n",
      "Epoch 12/15\n",
      "10/10 [==============================] - 0s 3ms/step - pearsonr: 0.7073 - r2: 0.5021\n",
      "Epoch 13/15\n",
      "10/10 [==============================] - 0s 3ms/step - pearsonr: 0.7174 - r2: 0.5168\n",
      "Epoch 14/15\n",
      "10/10 [==============================] - 0s 3ms/step - pearsonr: 0.7315 - r2: 0.5371\n",
      "Epoch 15/15\n",
      "10/10 [==============================] - 0s 3ms/step - pearsonr: 0.7440 - r2: 0.5555\n"
     ]
    }
   ],
   "source": [
    "class EarlyStoppingMin(tf.keras.callbacks.EarlyStopping):\n",
    "  \"\"\"Stop training when a monitored quantity has stopped improving.\n",
    "  Arguments:\n",
    "      min_epoch: Minimum number of epochs before considering stopping.\n",
    "      \n",
    "  \"\"\"\n",
    "  def __init__(self, min_epoch=0, **kwargs):\n",
    "    super(EarlyStoppingMin, self).__init__(**kwargs)\n",
    "    self.min_epoch = min_epoch\n",
    "\n",
    "  def on_epoch_end(self, epoch, logs=None):\n",
    "    current = self.get_monitor_value(logs)\n",
    "    if current is None:\n",
    "      return\n",
    "    if self.monitor_op(current - self.min_delta, self.best):\n",
    "      self.best = current\n",
    "      self.wait = 0\n",
    "      if self.restore_best_weights:\n",
    "        self.best_weights = self.model.get_weights()\n",
    "    else:\n",
    "      self.wait += 1\n",
    "      if epoch >= self.min_epoch and self.wait >= self.patience:\n",
    "        self.stopped_epoch = epoch\n",
    "        self.model.stop_training = True\n",
    "        if self.restore_best_weights:\n",
    "          if self.verbose > 0:\n",
    "            print('Restoring model weights from the end of the best epoch.')\n",
    "\n",
    "tf.keras.utils.set_random_seed(9)\n",
    "early_stop = EarlyStoppingMin(monitor='pearsonr', mode='max', verbose=1)\n",
    "callbacks = [early_stop]\n",
    "model_h = model.fit(dataset, epochs=15, callbacks=callbacks)\n"
   ]
  },
  {
   "cell_type": "code",
   "execution_count": 175,
   "metadata": {},
   "outputs": [
    {
     "data": {
      "text/plain": [
       "['pearsonr', 'r2']"
      ]
     },
     "execution_count": 175,
     "metadata": {},
     "output_type": "execute_result"
    }
   ],
   "source": [
    "model.metrics_names"
   ]
  },
  {
   "cell_type": "markdown",
   "metadata": {},
   "source": [
    "# Plot loss during training"
   ]
  },
  {
   "cell_type": "code",
   "execution_count": null,
   "metadata": {},
   "outputs": [],
   "source": [
    "import numpy as np \n",
    "from tensorflow import keras\n",
    "from matplotlib import pyplot as plt\n",
    "from IPython.display import clear_output\n",
    "\n",
    "class PlotLearning(keras.callbacks.Callback):\n",
    "    \"\"\"\n",
    "    Callback to plot the learning curves of the model during training.\n",
    "    \"\"\"\n",
    "    def on_train_begin(self, logs={}):\n",
    "        self.metrics = {}\n",
    "        for metric in logs:\n",
    "            self.metrics[metric] = []\n",
    "            \n",
    "\n",
    "    def on_epoch_end(self, epoch, logs={}):\n",
    "        # Storing metrics\n",
    "        for metric in logs:\n",
    "            if metric in self.metrics:\n",
    "                self.metrics[metric].append(logs.get(metric))\n",
    "            else:\n",
    "                self.metrics[metric] = [logs.get(metric)]\n",
    "        \n",
    "        # Plotting\n",
    "        metrics = [x for x in logs if 'val' not in x]\n",
    "        \n",
    "        f, axs = plt.subplots(1, len(metrics), figsize=(15,5))\n",
    "        clear_output(wait=True)\n",
    "\n",
    "        for i, metric in enumerate(metrics):\n",
    "            axs[i].plot(range(1, epoch + 2), \n",
    "                        self.metrics[metric], \n",
    "                        label=metric)\n",
    "            if logs['val_' + metric]:\n",
    "                axs[i].plot(range(1, epoch + 2), \n",
    "                            self.metrics['val_' + metric], \n",
    "                            label='val_' + metric)\n",
    "                \n",
    "            axs[i].legend()\n",
    "            axs[i].grid()\n",
    "\n",
    "        plt.tight_layout()\n",
    "        plt.show()"
   ]
  },
  {
   "cell_type": "markdown",
   "metadata": {},
   "source": [
    "# Simulation test"
   ]
  },
  {
   "cell_type": "code",
   "execution_count": 7,
   "metadata": {},
   "outputs": [],
   "source": [
    "for d in ds.take(1):\n",
    "      t = parse_proto(d)"
   ]
  },
  {
   "cell_type": "code",
   "execution_count": null,
   "metadata": {},
   "outputs": [],
   "source": [
    "target_obs = target.copy()\n",
    "num_missing_bins = np.random.randint(10)\n",
    "id_missing_bins = #choose num_missing_bins\n",
    "target_obs[id_missing_bins, :] = np.nan\n",
    "target_obs[:,id_missing_bins] = np.nan"
   ]
  },
  {
   "cell_type": "code",
   "execution_count": 9,
   "metadata": {},
   "outputs": [
    {
     "data": {
      "image/png": "[encoded data removed]",
      "text/plain": [
       "<Figure size 1000x500 with 2 Axes>"
      ]
     },
     "metadata": {},
     "output_type": "display_data"
    }
   ],
   "source": [
    "from matplotlib import pyplot as plt\n",
    "sequence = tf.cast(t[0], tf.float32)\n",
    "sequence = sequence[tf.newaxis,...]\n",
    "target = t[1].numpy()\n",
    "# target[20:25] = np.nan\n",
    "# target[:, 20:25] = np.nan\n",
    "target = tf.cast(target, tf.float32)\n",
    "\n",
    "fake_prediction = np.random.normal(loc=50, scale=100,size=(50, 50))\n",
    "mask = (target == 0)\n",
    "fake_prediction[mask] = 9999\n",
    "\n",
    "f, axes = plt.subplots(1, 2)\n",
    "axes[0].matshow(target)\n",
    "axes[0].title.set_text('Target')\n",
    "axes[1].matshow(fake_prediction)\n",
    "axes[1].title.set_text('Fake_prediction')\n",
    "f.set_size_inches(10, 5)"
   ]
  },
  {
   "cell_type": "code",
   "execution_count": 10,
   "metadata": {},
   "outputs": [
    {
     "name": "stdout",
     "output_type": "stream",
     "text": [
      "unmasked loss:  69190227.3526252\n",
      "masked loss:  13203.443588376193\n"
     ]
    }
   ],
   "source": [
    "loss_object1 = tf.keras.losses.MeanSquaredError()\n",
    "\n",
    "print('unmasked loss: ', loss_object1(target, fake_prediction).numpy())\n",
    "print('masked loss: ', loss_object1(target[~mask], fake_prediction[~mask]).numpy())"
   ]
  },
  {
   "cell_type": "code",
   "execution_count": null,
   "metadata": {},
   "outputs": [],
   "source": [
    "# ./akita_train.py -k -o /home1/yxiao977/sc1/akita_dinoflagellate/real_data/1m/train_out_unmask_gpu_batch8 /home1/yxiao977/sc1/akita_dinoflagellate/real_data/params_dinof_unmask_gpu.json /home1/yxiao977/sc1/akita_dinoflagellate/real_data/1m/\n",
    "# ./akita_train.py -k -o /home1/yxiao977/sc1/akita_dinoflagellate/test_mask/1m/train_out_unmask_gpu_interpo_batch8_tttttt /home1/yxiao977/sc1/akita_dinoflagellate/test_mask/1m/params_dinof_unmask_gpu.json /home1/yxiao977/sc1/akita_dinoflagellate/test_mask/1m/\n"
   ]
  },
  {
   "cell_type": "code",
   "execution_count": null,
   "metadata": {},
   "outputs": [],
   "source": []
  }
 ],
 "metadata": {
  "kernelspec": {
   "display_name": "akita",
   "language": "python",
   "name": "python3"
  },
  "language_info": {
   "codemirror_mode": {
    "name": "ipython",
    "version": 3
   },
   "file_extension": ".py",
   "mimetype": "text/x-python",
   "name": "python",
   "nbconvert_exporter": "python",
   "pygments_lexer": "ipython3",
   "version": "3.9.18"
  }
 },
 "nbformat": 4,
 "nbformat_minor": 2
}
