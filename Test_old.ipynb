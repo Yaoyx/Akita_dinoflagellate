{
 "cells": [
  {
   "cell_type": "code",
   "execution_count": null,
   "metadata": {},
   "outputs": [],
   "source": [
    "import sys\n",
    "sys.path.append('/home1/yxiao977/labwork')\n",
    "import test_func "
   ]
  },
  {
   "cell_type": "code",
   "execution_count": null,
   "metadata": {},
   "outputs": [],
   "source": [
    "request = {\n",
    "    'hic_path':'/home1/yxiao977/sc1/train_akita/data/5000res_0.5thres_hic_filter_both_bin.cool',\n",
    "    'cis_total_path':'/home1/yxiao977/sc1/train_akita/data/5000res_bins_cistotal_ratio.bed'\n",
    "}\n",
    "\n",
    "test_func.test_cis_total_filter(request)"
   ]
  },
  {
   "cell_type": "code",
   "execution_count": 1,
   "metadata": {},
   "outputs": [],
   "source": [
    "### Test need to delete later\n",
    "import cooler\n",
    "import numpy as np\n",
    "clr = cooler.Cooler('/home1/yxiao977/sc1/train_akita/data/GSE152150_HiC-Dplus.smic1.1N.mapq_30.1000.mcool::/resolutions/5000')"
   ]
  },
  {
   "cell_type": "code",
   "execution_count": 6,
   "metadata": {},
   "outputs": [
    {
     "data": {
      "text/plain": [
       "True"
      ]
     },
     "execution_count": 6,
     "metadata": {},
     "output_type": "execute_result"
    }
   ],
   "source": [
    "t = None\n",
    "t == None"
   ]
  },
  {
   "cell_type": "code",
   "execution_count": 2,
   "metadata": {},
   "outputs": [
    {
     "name": "stderr",
     "output_type": "stream",
     "text": [
      "/home1/yxiao977/.conda/envs/akita/lib/python3.9/site-packages/cooltools/lib/numutils.py:652: NumbaDeprecationWarning: The 'nopython' keyword argument was not supplied to the 'numba.jit' decorator. The implicit default value for this argument is currently False, but it will be changed to True in Numba 0.59.0. See https://numba.readthedocs.io/en/stable/reference/deprecation.html#deprecation-of-object-mode-fall-back-behaviour-when-using-jit for details.\n",
      "  def iterative_correction_symmetric(\n",
      "/home1/yxiao977/.conda/envs/akita/lib/python3.9/site-packages/cooltools/lib/numutils.py:727: NumbaDeprecationWarning: The 'nopython' keyword argument was not supplied to the 'numba.jit' decorator. The implicit default value for this argument is currently False, but it will be changed to True in Numba 0.59.0. See https://numba.readthedocs.io/en/stable/reference/deprecation.html#deprecation-of-object-mode-fall-back-behaviour-when-using-jit for details.\n",
      "  def iterative_correction_asymmetric(x, max_iter=1000, tol=1e-5, verbose=False):\n"
     ]
    }
   ],
   "source": [
    "import numpy as np\n",
    "import pandas as pd\n",
    "import cooltools\n",
    "import cooler\n",
    "import logging\n",
    "import functools\n",
    "def _bins_cis_total_ratio_filter(clr, thres):\n",
    "    \"\"\"\n",
    "    Filter out bins with low cis-to-total coverage ratio from a Cooler object.\n",
    "\n",
    "    Parameters\n",
    "    ----------\n",
    "    clr : cooler.Cooler\n",
    "        A Cooler object containing Hi-C contact matrices.\n",
    "    thres : float\n",
    "        The threshold cis-to-total coverage ratio below which bins are considered bad.\n",
    "\n",
    "    Returns\n",
    "    -------\n",
    "    numpy.ndarray\n",
    "        An array of bin mask.\n",
    "    \"\"\"\n",
    "    coverage = cooltools.coverage(clr)\n",
    "    cis_total_cov = coverage[0] / coverage[1]\n",
    "    bins_mask = cis_total_cov > thres\n",
    "\n",
    "    return bins_mask"
   ]
  },
  {
   "cell_type": "code",
   "execution_count": 3,
   "metadata": {},
   "outputs": [],
   "source": [
    "def _pixels_filter(chunk_pixels, bins_table_size, bin_mask):\n",
    "    \"\"\"\n",
    "    Filter out pixels that belong to bad bins.\n",
    "\n",
    "    Parameters:\n",
    "    -----------\n",
    "    bin_table : numpy.ndarray\n",
    "        A 2D array of shape (n_bins, n_features) containing the features of each bin.\n",
    "    chunk_pixels : pandas.DataFrame\n",
    "        A DataFrame containing the pixels to filter.\n",
    "    bin_mask : numpy.ndarray\n",
    "        A boolean array of shape (n_bins,) indicating which bins are bad.\n",
    "\n",
    "    Returns:\n",
    "    --------\n",
    "    pandas.DataFrame\n",
    "        A DataFrame containing only the pixels that belong to good bins.\n",
    "    \"\"\"\n",
    "    bad_bins_index = np.array(range(bins_table_size))[bin_mask]\n",
    "    pixels_mask = chunk_pixels['bin1_id'].isin(bad_bins_index) * chunk_pixels['bin2_id'].isin(bad_bins_index)\n",
    "    return chunk_pixels[pixels_mask]\n",
    "\n",
    "def pixels_filter_generator(bins_table_size, bin_mask):\n",
    "    \"\"\"\n",
    "    Returns a partial function that filters pixels based on the provided bins table and bin mask.\n",
    "\n",
    "    Parameters:\n",
    "    -----------\n",
    "    bins_table_size : int\n",
    "        A integer value indicates the size of bin table.\n",
    "    bin_mask : numpy.ndarray\n",
    "        A numpy array containing the bin mask.\n",
    "\n",
    "    Returns:\n",
    "    --------\n",
    "    partial function\n",
    "        A partial function that filters pixels based on the provided bins table and bin mask.\n",
    "    \"\"\"\n",
    "\n",
    "    return functools.partial(_pixels_filter, bins_table_size=bins_table_size, bin_mask=bin_mask)\n",
    "\n",
    "class PixelsIterator:\n",
    "    def __init__(self, clr_pixels_selector, pixels_size, chunksize):\n",
    "        self.chunksize = chunksize\n",
    "        self.max = pixels_size\n",
    "        self.pixels = clr_pixels_selector\n",
    "\n",
    "    def __iter__(self):\n",
    "        self.pivot = 0\n",
    "        return self\n",
    "\n",
    "    def __next__(self):\n",
    "        if (self.pivot + self.chunksize) < self.max:\n",
    "            pivot = self.pivot\n",
    "            self.pivot += self.chunksize\n",
    "            return self.pixels[pivot : self.pivot]\n",
    "        elif self.pivot < self.max:\n",
    "            pivot = self.pivot\n",
    "            self.pivot = self.max\n",
    "            return self.pixels[pivot : self.pivot]\n",
    "        else:\n",
    "            raise StopIteration"
   ]
  },
  {
   "cell_type": "code",
   "execution_count": 1,
   "metadata": {},
   "outputs": [],
   "source": [
    "import logging\n",
    "logger = logging.getLogger('one')\n",
    "logger.setLevel(logging.DEBUG)\n",
    "\n",
    "ch = logging.StreamHandler()\n",
    "ch.setLevel(logging.DEBUG)\n",
    "formatter = logging.Formatter('%(asctime)s - %(name)s - %(levelname)s : %(message)s')\n",
    "ch.setFormatter(formatter)\n",
    "logger.addHandler(ch)\n"
   ]
  },
  {
   "cell_type": "code",
   "execution_count": 7,
   "metadata": {},
   "outputs": [
    {
     "data": {
      "text/plain": [
       "array([False,  True])"
      ]
     },
     "execution_count": 7,
     "metadata": {},
     "output_type": "execute_result"
    }
   ],
   "source": [
    "~np.array([True, False])"
   ]
  },
  {
   "cell_type": "code",
   "execution_count": 8,
   "metadata": {},
   "outputs": [
    {
     "name": "stderr",
     "output_type": "stream",
     "text": [
      "/tmp/SLURM_16817575/ipykernel_40495/1550455361.py:24: RuntimeWarning: invalid value encountered in true_divide\n",
      "  cis_total_cov = coverage[0] / coverage[1]\n"
     ]
    }
   ],
   "source": [
    "import numpy as np\n",
    "bin_mask = _bins_cis_total_ratio_filter(clr, 0.5)\n",
    "bad_bins_index = np.array(range(clr.bins().shape[0]))[~bin_mask]"
   ]
  },
  {
   "cell_type": "code",
   "execution_count": 11,
   "metadata": {},
   "outputs": [
    {
     "data": {
      "text/plain": [
       "array([    12,     13,     23, ..., 147181, 147182, 147183])"
      ]
     },
     "execution_count": 11,
     "metadata": {},
     "output_type": "execute_result"
    }
   ],
   "source": [
    "bad_bins_i"
   ]
  },
  {
   "cell_type": "code",
   "execution_count": 7,
   "metadata": {},
   "outputs": [
    {
     "name": "stderr",
     "output_type": "stream",
     "text": [
      "/tmp/SLURM_16768932/ipykernel_4290/1550455361.py:24: RuntimeWarning: invalid value encountered in true_divide\n",
      "  cis_total_cov = coverage[0] / coverage[1]\n"
     ]
    }
   ],
   "source": [
    "bin_mask = _bins_cis_total_ratio_filter(clr, 0.5)\n",
    "bins_table = clr.bins()[:]\n",
    "tot_pixels = clr.pixels().shape[0]"
   ]
  },
  {
   "cell_type": "code",
   "execution_count": 34,
   "metadata": {},
   "outputs": [],
   "source": [
    "pixels_chunks = PixelsIterator(clr.pixels(), tot_pixels, chunksize=10_000_000)\n",
    "pixels_filter = pixels_filter_generator(bins_table.shape[0], bin_mask)\n"
   ]
  },
  {
   "cell_type": "code",
   "execution_count": 4,
   "metadata": {},
   "outputs": [],
   "source": [
    "import cooler\n",
    "t_clr = cooler.Cooler('/home1/yxiao977/sc1/test_func/test_create.cool')"
   ]
  },
  {
   "cell_type": "code",
   "execution_count": 6,
   "metadata": {},
   "outputs": [
    {
     "data": {
      "text/plain": [
       "147184"
      ]
     },
     "execution_count": 6,
     "metadata": {},
     "output_type": "execute_result"
    }
   ],
   "source": [
    "len(bin_mask) - np.sum(bin_mask)"
   ]
  },
  {
   "cell_type": "code",
   "execution_count": 26,
   "metadata": {},
   "outputs": [
    {
     "data": {
      "text/plain": [
       "(449402872,)"
      ]
     },
     "execution_count": 26,
     "metadata": {},
     "output_type": "execute_result"
    }
   ],
   "source": [
    "t_clr.pixels().shape"
   ]
  },
  {
   "cell_type": "code",
   "execution_count": 24,
   "metadata": {},
   "outputs": [
    {
     "data": {
      "text/html": [
       "<div>\n",
       "<style scoped>\n",
       "    .dataframe tbody tr th:only-of-type {\n",
       "        vertical-align: middle;\n",
       "    }\n",
       "\n",
       "    .dataframe tbody tr th {\n",
       "        vertical-align: top;\n",
       "    }\n",
       "\n",
       "    .dataframe thead th {\n",
       "        text-align: right;\n",
       "    }\n",
       "</style>\n",
       "<table border=\"1\" class=\"dataframe\">\n",
       "  <thead>\n",
       "    <tr style=\"text-align: right;\">\n",
       "      <th></th>\n",
       "      <th>chrom</th>\n",
       "      <th>start</th>\n",
       "      <th>end</th>\n",
       "      <th>weight</th>\n",
       "    </tr>\n",
       "  </thead>\n",
       "  <tbody>\n",
       "    <tr>\n",
       "      <th>13253</th>\n",
       "      <td>chr5_pilon</td>\n",
       "      <td>4260000</td>\n",
       "      <td>4265000</td>\n",
       "      <td>NaN</td>\n",
       "    </tr>\n",
       "  </tbody>\n",
       "</table>\n",
       "</div>"
      ],
      "text/plain": [
       "            chrom    start      end  weight\n",
       "13253  chr5_pilon  4260000  4265000     NaN"
      ]
     },
     "execution_count": 24,
     "metadata": {},
     "output_type": "execute_result"
    }
   ],
   "source": [
    "t_clr.bins()[13253]"
   ]
  },
  {
   "cell_type": "code",
   "execution_count": 25,
   "metadata": {},
   "outputs": [
    {
     "data": {
      "text/html": [
       "<div>\n",
       "<style scoped>\n",
       "    .dataframe tbody tr th:only-of-type {\n",
       "        vertical-align: middle;\n",
       "    }\n",
       "\n",
       "    .dataframe tbody tr th {\n",
       "        vertical-align: top;\n",
       "    }\n",
       "\n",
       "    .dataframe thead th {\n",
       "        text-align: right;\n",
       "    }\n",
       "</style>\n",
       "<table border=\"1\" class=\"dataframe\">\n",
       "  <thead>\n",
       "    <tr style=\"text-align: right;\">\n",
       "      <th></th>\n",
       "      <th>bin1_id</th>\n",
       "      <th>bin2_id</th>\n",
       "      <th>count</th>\n",
       "    </tr>\n",
       "  </thead>\n",
       "  <tbody>\n",
       "  </tbody>\n",
       "</table>\n",
       "</div>"
      ],
      "text/plain": [
       "Empty DataFrame\n",
       "Columns: [bin1_id, bin2_id, count]\n",
       "Index: []"
      ]
     },
     "execution_count": 25,
     "metadata": {},
     "output_type": "execute_result"
    }
   ],
   "source": [
    "t_clr.pixels().fetch('chr5_pilon:4260000-4265000')"
   ]
  },
  {
   "cell_type": "code",
   "execution_count": 31,
   "metadata": {},
   "outputs": [
    {
     "data": {
      "text/plain": [
       "array([ True, False])"
      ]
     },
     "execution_count": 31,
     "metadata": {},
     "output_type": "execute_result"
    }
   ],
   "source": [
    "np.array([True, False]) * np.array([True, True])"
   ]
  },
  {
   "cell_type": "code",
   "execution_count": 22,
   "metadata": {},
   "outputs": [
    {
     "data": {
      "text/html": [
       "<div>\n",
       "<style scoped>\n",
       "    .dataframe tbody tr th:only-of-type {\n",
       "        vertical-align: middle;\n",
       "    }\n",
       "\n",
       "    .dataframe tbody tr th {\n",
       "        vertical-align: top;\n",
       "    }\n",
       "\n",
       "    .dataframe thead th {\n",
       "        text-align: right;\n",
       "    }\n",
       "</style>\n",
       "<table border=\"1\" class=\"dataframe\">\n",
       "  <thead>\n",
       "    <tr style=\"text-align: right;\">\n",
       "      <th></th>\n",
       "      <th>bin1_id</th>\n",
       "      <th>bin2_id</th>\n",
       "      <th>count</th>\n",
       "    </tr>\n",
       "  </thead>\n",
       "  <tbody>\n",
       "    <tr>\n",
       "      <th>71972446</th>\n",
       "      <td>13253</td>\n",
       "      <td>15233</td>\n",
       "      <td>1</td>\n",
       "    </tr>\n",
       "    <tr>\n",
       "      <th>71972447</th>\n",
       "      <td>13253</td>\n",
       "      <td>43947</td>\n",
       "      <td>1</td>\n",
       "    </tr>\n",
       "    <tr>\n",
       "      <th>71972448</th>\n",
       "      <td>13253</td>\n",
       "      <td>96858</td>\n",
       "      <td>1</td>\n",
       "    </tr>\n",
       "    <tr>\n",
       "      <th>71972449</th>\n",
       "      <td>13253</td>\n",
       "      <td>118939</td>\n",
       "      <td>1</td>\n",
       "    </tr>\n",
       "  </tbody>\n",
       "</table>\n",
       "</div>"
      ],
      "text/plain": [
       "          bin1_id  bin2_id  count\n",
       "71972446    13253    15233      1\n",
       "71972447    13253    43947      1\n",
       "71972448    13253    96858      1\n",
       "71972449    13253   118939      1"
      ]
     },
     "execution_count": 22,
     "metadata": {},
     "output_type": "execute_result"
    }
   ],
   "source": [
    "clr.pixels().fetch('chr5_pilon:4260000-4265000')"
   ]
  },
  {
   "cell_type": "code",
   "execution_count": 12,
   "metadata": {},
   "outputs": [],
   "source": [
    "import pandas as pd\n",
    "cis_total_cov = pd.read_table('/home1/yxiao977/sc1/train_akita/data/5000res_bins_cistotal_ratio.bed', sep='\\t')"
   ]
  },
  {
   "cell_type": "code",
   "execution_count": 16,
   "metadata": {},
   "outputs": [
    {
     "data": {
      "text/html": [
       "<div>\n",
       "<style scoped>\n",
       "    .dataframe tbody tr th:only-of-type {\n",
       "        vertical-align: middle;\n",
       "    }\n",
       "\n",
       "    .dataframe tbody tr th {\n",
       "        vertical-align: top;\n",
       "    }\n",
       "\n",
       "    .dataframe thead th {\n",
       "        text-align: right;\n",
       "    }\n",
       "</style>\n",
       "<table border=\"1\" class=\"dataframe\">\n",
       "  <thead>\n",
       "    <tr style=\"text-align: right;\">\n",
       "      <th></th>\n",
       "      <th>chrom</th>\n",
       "      <th>start</th>\n",
       "      <th>end</th>\n",
       "      <th>cis-total-ratio</th>\n",
       "    </tr>\n",
       "  </thead>\n",
       "  <tbody>\n",
       "    <tr>\n",
       "      <th>578</th>\n",
       "      <td>chr1_pilon</td>\n",
       "      <td>2890000</td>\n",
       "      <td>2895000</td>\n",
       "      <td>NaN</td>\n",
       "    </tr>\n",
       "    <tr>\n",
       "      <th>579</th>\n",
       "      <td>chr1_pilon</td>\n",
       "      <td>2895000</td>\n",
       "      <td>2900000</td>\n",
       "      <td>NaN</td>\n",
       "    </tr>\n",
       "    <tr>\n",
       "      <th>580</th>\n",
       "      <td>chr1_pilon</td>\n",
       "      <td>2900000</td>\n",
       "      <td>2905000</td>\n",
       "      <td>NaN</td>\n",
       "    </tr>\n",
       "    <tr>\n",
       "      <th>581</th>\n",
       "      <td>chr1_pilon</td>\n",
       "      <td>2905000</td>\n",
       "      <td>2910000</td>\n",
       "      <td>NaN</td>\n",
       "    </tr>\n",
       "    <tr>\n",
       "      <th>582</th>\n",
       "      <td>chr1_pilon</td>\n",
       "      <td>2910000</td>\n",
       "      <td>2915000</td>\n",
       "      <td>NaN</td>\n",
       "    </tr>\n",
       "    <tr>\n",
       "      <th>...</th>\n",
       "      <td>...</td>\n",
       "      <td>...</td>\n",
       "      <td>...</td>\n",
       "      <td>...</td>\n",
       "    </tr>\n",
       "    <tr>\n",
       "      <th>146920</th>\n",
       "      <td>chr91_pilon</td>\n",
       "      <td>80000</td>\n",
       "      <td>85000</td>\n",
       "      <td>NaN</td>\n",
       "    </tr>\n",
       "    <tr>\n",
       "      <th>146921</th>\n",
       "      <td>chr91_pilon</td>\n",
       "      <td>85000</td>\n",
       "      <td>90000</td>\n",
       "      <td>NaN</td>\n",
       "    </tr>\n",
       "    <tr>\n",
       "      <th>147146</th>\n",
       "      <td>chr92_pilon</td>\n",
       "      <td>505000</td>\n",
       "      <td>510000</td>\n",
       "      <td>NaN</td>\n",
       "    </tr>\n",
       "    <tr>\n",
       "      <th>147176</th>\n",
       "      <td>chr93_pilon</td>\n",
       "      <td>130000</td>\n",
       "      <td>135000</td>\n",
       "      <td>NaN</td>\n",
       "    </tr>\n",
       "    <tr>\n",
       "      <th>147181</th>\n",
       "      <td>chr94_pilon</td>\n",
       "      <td>15000</td>\n",
       "      <td>20000</td>\n",
       "      <td>NaN</td>\n",
       "    </tr>\n",
       "  </tbody>\n",
       "</table>\n",
       "<p>2918 rows × 4 columns</p>\n",
       "</div>"
      ],
      "text/plain": [
       "              chrom    start      end  cis-total-ratio\n",
       "578      chr1_pilon  2890000  2895000              NaN\n",
       "579      chr1_pilon  2895000  2900000              NaN\n",
       "580      chr1_pilon  2900000  2905000              NaN\n",
       "581      chr1_pilon  2905000  2910000              NaN\n",
       "582      chr1_pilon  2910000  2915000              NaN\n",
       "...             ...      ...      ...              ...\n",
       "146920  chr91_pilon    80000    85000              NaN\n",
       "146921  chr91_pilon    85000    90000              NaN\n",
       "147146  chr92_pilon   505000   510000              NaN\n",
       "147176  chr93_pilon   130000   135000              NaN\n",
       "147181  chr94_pilon    15000    20000              NaN\n",
       "\n",
       "[2918 rows x 4 columns]"
      ]
     },
     "execution_count": 16,
     "metadata": {},
     "output_type": "execute_result"
    }
   ],
   "source": [
    "cis_total_cov[cis_total_cov['cis-total-ratio'].isna()]"
   ]
  },
  {
   "cell_type": "code",
   "execution_count": 20,
   "metadata": {},
   "outputs": [],
   "source": [
    "sums = []\n",
    "for i, row in cis_total_cov[cis_total_cov['cis-total-ratio'].isna()].iterrows():\n",
    "    sums.append(np.nansum(clr.pixels().fetch(row[:3])['count']))"
   ]
  },
  {
   "cell_type": "code",
   "execution_count": 27,
   "metadata": {},
   "outputs": [
    {
     "data": {
      "text/plain": [
       "Index([1248, 70460, 110322], dtype='int64')"
      ]
     },
     "execution_count": 27,
     "metadata": {},
     "output_type": "execute_result"
    }
   ],
   "source": [
    "cis_total_cov[cis_total_cov['cis-total-ratio'].isna()].index[np.where(np.array(sums) > 0)]"
   ]
  },
  {
   "cell_type": "code",
   "execution_count": 30,
   "metadata": {},
   "outputs": [
    {
     "data": {
      "text/plain": [
       "chrom              chr1_pilon\n",
       "start                 6240000\n",
       "end                   6245000\n",
       "cis-total-ratio           NaN\n",
       "Name: 1248, dtype: object"
      ]
     },
     "execution_count": 30,
     "metadata": {},
     "output_type": "execute_result"
    }
   ],
   "source": [
    "cis_total_cov.loc[1248]"
   ]
  },
  {
   "cell_type": "code",
   "execution_count": 31,
   "metadata": {},
   "outputs": [
    {
     "data": {
      "text/html": [
       "<div>\n",
       "<style scoped>\n",
       "    .dataframe tbody tr th:only-of-type {\n",
       "        vertical-align: middle;\n",
       "    }\n",
       "\n",
       "    .dataframe tbody tr th {\n",
       "        vertical-align: top;\n",
       "    }\n",
       "\n",
       "    .dataframe thead th {\n",
       "        text-align: right;\n",
       "    }\n",
       "</style>\n",
       "<table border=\"1\" class=\"dataframe\">\n",
       "  <thead>\n",
       "    <tr style=\"text-align: right;\">\n",
       "      <th></th>\n",
       "      <th>bin1_id</th>\n",
       "      <th>bin2_id</th>\n",
       "      <th>count</th>\n",
       "    </tr>\n",
       "  </thead>\n",
       "  <tbody>\n",
       "    <tr>\n",
       "      <th>8733327</th>\n",
       "      <td>1248</td>\n",
       "      <td>1248</td>\n",
       "      <td>1</td>\n",
       "    </tr>\n",
       "  </tbody>\n",
       "</table>\n",
       "</div>"
      ],
      "text/plain": [
       "         bin1_id  bin2_id  count\n",
       "8733327     1248     1248      1"
      ]
     },
     "execution_count": 31,
     "metadata": {},
     "output_type": "execute_result"
    }
   ],
   "source": [
    "clr.pixels().fetch('chr1_pilon:6240000-6245000')"
   ]
  },
  {
   "cell_type": "code",
   "execution_count": 15,
   "metadata": {},
   "outputs": [
    {
     "data": {
      "text/plain": [
       "10533"
      ]
     },
     "execution_count": 15,
     "metadata": {},
     "output_type": "execute_result"
    }
   ],
   "source": [
    "len(cis_total_cov[cis_total_cov['cis-total-ratio'].isna()]) + len(cis_total_cov[cis_total_cov['cis-total-ratio'] <= 0.5])"
   ]
  },
  {
   "cell_type": "code",
   "execution_count": 12,
   "metadata": {},
   "outputs": [
    {
     "data": {
      "text/plain": [
       "147184"
      ]
     },
     "execution_count": 12,
     "metadata": {},
     "output_type": "execute_result"
    }
   ],
   "source": [
    "len(cis_total_cov)"
   ]
  },
  {
   "cell_type": "code",
   "execution_count": 16,
   "metadata": {},
   "outputs": [
    {
     "data": {
      "text/plain": [
       "10533"
      ]
     },
     "execution_count": 16,
     "metadata": {},
     "output_type": "execute_result"
    }
   ],
   "source": [
    "len(bin_mask) - np.sum(bin_mask)"
   ]
  },
  {
   "cell_type": "code",
   "execution_count": 10,
   "metadata": {},
   "outputs": [
    {
     "name": "stdout",
     "output_type": "stream",
     "text": [
      "[1, 2, 3, 4, 5, 6, 7, 8, 9, 10, 11, 12]\n"
     ]
    }
   ],
   "source": [
    "from multiprocessing import Pool\n",
    "\n",
    "def f(x):\n",
    "    return x\n",
    "\n",
    "with Pool(4) as p:\n",
    "    print(p.map(f, [1,2,3,4,5,6,7,8,9,10,11,12]))"
   ]
  },
  {
   "cell_type": "code",
   "execution_count": null,
   "metadata": {},
   "outputs": [],
   "source": [
    "pixels_mask = [bin_mask[i] for i in chunk_pixels['bin1_id'].values]"
   ]
  },
  {
   "cell_type": "code",
   "execution_count": 9,
   "metadata": {},
   "outputs": [
    {
     "ename": "AssertionError",
     "evalue": "",
     "output_type": "error",
     "traceback": [
      "\u001b[0;31m---------------------------------------------------------------------------\u001b[0m",
      "\u001b[0;31mAssertionError\u001b[0m                            Traceback (most recent call last)",
      "\u001b[1;32m/home1/yxiao977/labwork/Akita_dinoflagellate/Test_old.ipynb Cell 31\u001b[0m line \u001b[0;36m1\n\u001b[0;32m----> <a href='vscode-notebook-cell://tunnel%2Byxiao977-usc-hpc/home1/yxiao977/labwork/Akita_dinoflagellate/Test_old.ipynb#X42sdnNjb2RlLXJlbW90ZQ%3D%3D?line=0'>1</a>\u001b[0m \u001b[39massert\u001b[39;00m \u001b[39mFalse\u001b[39;00m\n",
      "\u001b[0;31mAssertionError\u001b[0m: "
     ]
    }
   ],
   "source": [
    "assert False"
   ]
  },
  {
   "cell_type": "code",
   "execution_count": 16,
   "metadata": {},
   "outputs": [],
   "source": [
    "import numpy as np\n",
    "assert np.isnan([np.nan, np.nan]).all()"
   ]
  },
  {
   "cell_type": "code",
   "execution_count": 1,
   "metadata": {},
   "outputs": [
    {
     "name": "stderr",
     "output_type": "stream",
     "text": [
      "/home1/yxiao977/.conda/envs/akita/lib/python3.9/site-packages/cooltools/lib/numutils.py:652: NumbaDeprecationWarning: The 'nopython' keyword argument was not supplied to the 'numba.jit' decorator. The implicit default value for this argument is currently False, but it will be changed to True in Numba 0.59.0. See https://numba.readthedocs.io/en/stable/reference/deprecation.html#deprecation-of-object-mode-fall-back-behaviour-when-using-jit for details.\n",
      "  def iterative_correction_symmetric(\n",
      "/home1/yxiao977/.conda/envs/akita/lib/python3.9/site-packages/cooltools/lib/numutils.py:727: NumbaDeprecationWarning: The 'nopython' keyword argument was not supplied to the 'numba.jit' decorator. The implicit default value for this argument is currently False, but it will be changed to True in Numba 0.59.0. See https://numba.readthedocs.io/en/stable/reference/deprecation.html#deprecation-of-object-mode-fall-back-behaviour-when-using-jit for details.\n",
      "  def iterative_correction_asymmetric(x, max_iter=1000, tol=1e-5, verbose=False):\n",
      "2023-10-11 11:32:06,576 - test_func - DEBUG : Start to generate a toy example...\n",
      "/home1/yxiao977/.conda/envs/akita/lib/python3.9/site-packages/cooler/balance.py:112: RuntimeWarning: Mean of empty slice.\n",
      "  scale = nzmarg.mean()\n",
      "/home1/yxiao977/.conda/envs/akita/lib/python3.9/site-packages/numpy/core/_methods.py:189: RuntimeWarning: invalid value encountered in double_scalars\n",
      "  ret = ret.dtype.type(ret / rcount)\n",
      "2023-10-11 11:32:07,078 - test_func - DEBUG : Start to test filter_pixels function...\n",
      "2023-10-11 11:32:07,078 - data_util - INFO : Start to make bin mask with 0.5 threshold...\n",
      "2023-10-11 11:32:07,091 - data_util - DEBUG : Start to create pixels counts file...\n",
      "2023-10-11 11:32:07,091 - data_util - DEBUG : Start to create cooler file...\n",
      "/home1/yxiao977/.conda/envs/akita/lib/python3.9/site-packages/cooler/core/_tableops.py:120: FutureWarning: is_categorical_dtype is deprecated and will be removed in a future version. Use isinstance(dtype, CategoricalDtype) instead\n",
      "  elif is_categorical_dtype(data):\n",
      "2023-10-11 11:32:07,178 - data_util - DEBUG : done\n",
      "2023-10-11 11:32:07,194 - test_func - DEBUG : Start to examine the result...\n",
      "/home1/yxiao977/labwork/Akita_dinoflagellate/test_func.py:68: RuntimeWarning: invalid value encountered in true_divide\n",
      "  cis_total_cov_filtered = coverage_filtered[0] / coverage_filtered[1]\n"
     ]
    },
    {
     "ename": "AssertionError",
     "evalue": "",
     "output_type": "error",
     "traceback": [
      "\u001b[0;31m---------------------------------------------------------------------------\u001b[0m",
      "\u001b[0;31mAssertionError\u001b[0m                            Traceback (most recent call last)",
      "\u001b[1;32m/home1/yxiao977/labwork/Akita_dinoflagellate/Test_old.ipynb Cell 33\u001b[0m line \u001b[0;36m5\n\u001b[1;32m      <a href='vscode-notebook-cell://tunnel%2Byxiao977-usc-hpc/home1/yxiao977/labwork/Akita_dinoflagellate/Test_old.ipynb#X44sdnNjb2RlLXJlbW90ZQ%3D%3D?line=1'>2</a>\u001b[0m sys\u001b[39m.\u001b[39mpath\u001b[39m.\u001b[39mappend(\u001b[39m'\u001b[39m\u001b[39m/home1/yxiao977/labwork/Akita_dinoflagellate/\u001b[39m\u001b[39m'\u001b[39m)\n\u001b[1;32m      <a href='vscode-notebook-cell://tunnel%2Byxiao977-usc-hpc/home1/yxiao977/labwork/Akita_dinoflagellate/Test_old.ipynb#X44sdnNjb2RlLXJlbW90ZQ%3D%3D?line=2'>3</a>\u001b[0m \u001b[39mimport\u001b[39;00m \u001b[39mtest_func\u001b[39;00m\n\u001b[0;32m----> <a href='vscode-notebook-cell://tunnel%2Byxiao977-usc-hpc/home1/yxiao977/labwork/Akita_dinoflagellate/Test_old.ipynb#X44sdnNjb2RlLXJlbW90ZQ%3D%3D?line=4'>5</a>\u001b[0m test_func\u001b[39m.\u001b[39;49mtest_cis_total_filter(\u001b[39m0.5\u001b[39;49m)\n",
      "File \u001b[0;32m~/labwork/Akita_dinoflagellate/test_func.py:76\u001b[0m, in \u001b[0;36mtest_cis_total_filter\u001b[0;34m(thres, clr_test)\u001b[0m\n\u001b[1;32m     73\u001b[0m \u001b[39massert\u001b[39;00m np\u001b[39m.\u001b[39misnan(cis_total_cov_filtered_bad)\u001b[39m.\u001b[39mall()\n\u001b[1;32m     75\u001b[0m \u001b[39m# check if clr_filtered has the same cis_total ratio for good bins\u001b[39;00m\n\u001b[0;32m---> 76\u001b[0m \u001b[39massert\u001b[39;00m (cis_total_cov_filtered_good \u001b[39m==\u001b[39m cis_total_cov[\u001b[39m~\u001b[39mbins_mask])\u001b[39m.\u001b[39mall()\n\u001b[1;32m     77\u001b[0m logger\u001b[39m.\u001b[39minfo(\u001b[39m'\u001b[39m\u001b[39m\\n\u001b[39;00m\u001b[39m\\n\u001b[39;00m\u001b[39m######### Pass the test #########\u001b[39m\u001b[39m'\u001b[39m)\n",
      "\u001b[0;31mAssertionError\u001b[0m: "
     ]
    }
   ],
   "source": [
    "import sys\n",
    "sys.path.append('/home1/yxiao977/labwork/Akita_dinoflagellate/')\n",
    "import test_func\n",
    "\n",
    "test_func.test_cis_total_filter(0.5)"
   ]
  },
  {
   "cell_type": "code",
   "execution_count": 5,
   "metadata": {},
   "outputs": [
    {
     "data": {
      "text/plain": [
       "True"
      ]
     },
     "execution_count": 5,
     "metadata": {},
     "output_type": "execute_result"
    }
   ],
   "source": [
    "import numpy as np\n",
    "np.array([1,1,1,1]).all() == np.array([1,1,1,1]).all()"
   ]
  },
  {
   "cell_type": "code",
   "execution_count": 2,
   "metadata": {},
   "outputs": [],
   "source": [
    "import cooler \n",
    "\n",
    "clr_file = \"/home1/yxiao977/sc1/train_akita/test_data/test_data_util.cool\"\n",
    "clr_test = cooler.Cooler(clr_file)"
   ]
  },
  {
   "cell_type": "code",
   "execution_count": 3,
   "metadata": {},
   "outputs": [
    {
     "data": {
      "text/html": [
       "<div>\n",
       "<style scoped>\n",
       "    .dataframe tbody tr th:only-of-type {\n",
       "        vertical-align: middle;\n",
       "    }\n",
       "\n",
       "    .dataframe tbody tr th {\n",
       "        vertical-align: top;\n",
       "    }\n",
       "\n",
       "    .dataframe thead th {\n",
       "        text-align: right;\n",
       "    }\n",
       "</style>\n",
       "<table border=\"1\" class=\"dataframe\">\n",
       "  <thead>\n",
       "    <tr style=\"text-align: right;\">\n",
       "      <th></th>\n",
       "      <th>chrom</th>\n",
       "      <th>start</th>\n",
       "      <th>end</th>\n",
       "    </tr>\n",
       "  </thead>\n",
       "  <tbody>\n",
       "    <tr>\n",
       "      <th>0</th>\n",
       "      <td>chr1</td>\n",
       "      <td>0</td>\n",
       "      <td>5</td>\n",
       "    </tr>\n",
       "    <tr>\n",
       "      <th>1</th>\n",
       "      <td>chr1</td>\n",
       "      <td>5</td>\n",
       "      <td>8</td>\n",
       "    </tr>\n",
       "    <tr>\n",
       "      <th>2</th>\n",
       "      <td>chrX</td>\n",
       "      <td>0</td>\n",
       "      <td>5</td>\n",
       "    </tr>\n",
       "    <tr>\n",
       "      <th>3</th>\n",
       "      <td>chrX</td>\n",
       "      <td>5</td>\n",
       "      <td>10</td>\n",
       "    </tr>\n",
       "  </tbody>\n",
       "</table>\n",
       "</div>"
      ],
      "text/plain": [
       "  chrom  start  end\n",
       "0  chr1      0    5\n",
       "1  chr1      5    8\n",
       "2  chrX      0    5\n",
       "3  chrX      5   10"
      ]
     },
     "execution_count": 3,
     "metadata": {},
     "output_type": "execute_result"
    }
   ],
   "source": [
    "clr_test.bins()[:]"
   ]
  },
  {
   "cell_type": "code",
   "execution_count": null,
   "metadata": {},
   "outputs": [],
   "source": [
    "clr._load_attrs(clr.root.rstrip(\"/\") + \"/bins/weight\")[\"ignore_diags\"]"
   ]
  }
 ],
 "metadata": {
  "kernelspec": {
   "display_name": "akita",
   "language": "python",
   "name": "python3"
  },
  "language_info": {
   "codemirror_mode": {
    "name": "ipython",
    "version": 3
   },
   "file_extension": ".py",
   "mimetype": "text/x-python",
   "name": "python",
   "nbconvert_exporter": "python",
   "pygments_lexer": "ipython3",
   "version": "3.9.18"
  },
  "orig_nbformat": 4
 },
 "nbformat": 4,
 "nbformat_minor": 2
}
